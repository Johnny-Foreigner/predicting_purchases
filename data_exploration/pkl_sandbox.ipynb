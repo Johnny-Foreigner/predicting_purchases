{
 "cells": [
  {
   "cell_type": "code",
   "execution_count": 7,
   "metadata": {},
   "outputs": [
    {
     "name": "stdout",
     "output_type": "stream",
     "text": [
      "0.6733185513673319\n"
     ]
    }
   ],
   "source": [
    "# Save Model Using Pickle\n",
    "import pandas as pd\n",
    "from sklearn import model_selection\n",
    "from datetime import datetime\n",
    "from sklearn.preprocessing import OneHotEncoder, LabelBinarizer\n",
    "from sklearn.model_selection import train_test_split\n",
    "from sklearn.ensemble import RandomForestClassifier\n",
    "import pickle\n",
    "\n",
    "url = \"https://raw.githubusercontent.com/jbrownlee/Datasets/master/pima-indians-diabetes.data.csv\"\n",
    "names = ['preg', 'plas', 'pres', 'skin', 'test', 'mass', 'pedi', 'age', 'class']\n",
    "dataframe = pandas.read_csv(url, names=names)\n",
    "array = dataframe.values\n",
    "#bring in the CSVs\n",
    "oct19 = pd.read_csv(\"../data/2019-Oct.csv\")\n",
    "nov19 = pd.read_csv(\"../data/2019-Nov.csv\")\n",
    "dec19 = pd.read_csv(\"../data/2019-Dec.csv\")\n",
    "jan20 = pd.read_csv(\"../data/2020-Jan.csv\")\n",
    "feb20 = pd.read_csv(\"../data/2020-Feb.csv\")\n",
    "ecom_df = pd.concat([oct19, nov19, dec19, jan20, feb20], axis=0)\n",
    "\n",
    "#preprocessing\n",
    "ecom_df = ecom_df[ecom_df.event_type != 'view']\n",
    "ecom_df = ecom_df[ecom_df.event_type != 'cart']\n",
    "ecom_df.brand.fillna(value=\"unknown\", axis=0, inplace=True)\n",
    "ecom_df.dropna(inplace=True)\n",
    "ecom_df.drop(\"category_id\", axis=1, inplace = True)\n",
    "ecom_df = ecom_df[ecom_df['price']>= 0]\n",
    "ecom_df.event_type = ecom_df[\"event_type\"].replace({'purchase': 1, 'remove_from_cart': 0})\n",
    "\n",
    "#FE\n",
    "ecom_df['event_time'] = pd.to_datetime(ecom_df['event_time'])\n",
    "ecom_df['month'] = pd.DatetimeIndex(ecom_df['event_time']).month\n",
    "ecom_df['2020'] = pd.DatetimeIndex(ecom_df['event_time']).year\n",
    "ecom_df['hour'] = pd.DatetimeIndex(ecom_df['event_time']).hour\n",
    "ecom_df['2020'] = ecom_df['2020'].replace({2019: 0, 2020: 1})\n",
    "ecom_df['day'] = ecom_df['event_time'].dt.dayofweek\n",
    "ecom_df['day'] = ecom_df['day'].replace({0: 'Monday', 1: 'Tuesday', 2: 'Wednesday', 3: 'Thursday', 4: 'Friday', 5: 'Saturday', 6: 'Sunday'})\n",
    "when_df = pd.DataFrame({'hour':range(1, 25)})\n",
    "bins = [0,6,12,18,24]\n",
    "labels = ['Night', 'Morning','Afternoon','Evening']\n",
    "when_df['when'] = pd.cut(when_df['hour'], bins=bins, labels=labels, include_lowest=True)\n",
    "#may have to fix bellow\n",
    "ecom_df = ecom_df.join(when_df['when'], on=\"hour\")\n",
    "ecom_df['month'] = ecom_df['month'].replace({1: 'January', 2: 'Febuary', 10: 'October', 11: 'November', 12: 'December'})\n",
    "\n",
    "#Labeling\n",
    "encoder = LabelBinarizer()\n",
    "lb1_labels = pd.DataFrame(encoder.fit_transform(ecom_df[['brand']]), columns=encoder.classes_, index=ecom_df.index)\n",
    "encoder = LabelBinarizer()\n",
    "lb2_labels = pd.DataFrame(encoder.fit_transform(ecom_df[[\"product_id\"]]), columns=encoder.classes_, index=ecom_df.index)\n",
    "#ohe\n",
    "ohe = OneHotEncoder(sparse=False, drop='first')\n",
    "ohe_labels = pd.DataFrame(ohe.fit_transform(ecom_df[['category_code', 'day', 'month', 'when']]), index=ecom_df.index, columns=ohe.get_feature_names(ecom_df[['category_code', 'day', 'month', 'when']].columns))\n",
    "#join\n",
    "ecom_df = ecom_df.join(lb1_labels)\n",
    "ecom_df = ecom_df.join(lb2_labels)\n",
    "ecom_df = ecom_df.join(ohe_labels)\n",
    "\n",
    "\n",
    "X = ecom_df.drop([\"month\", \"hour\", \"day\", \"when\", \"user_id\", \"product_id\", \"category_code\", \"event_time\", \"event_type\", \"brand\", \"user_session\"], axis=1)\n",
    "y = ecom_df.event_type\n",
    "test_size = 0.25\n",
    "seed = 42\n",
    "X_train, X_test, y_train, y_test = model_selection.train_test_split(X, y, test_size=test_size, random_state=seed)\n",
    "# Fit the model on training set\n",
    "model = RandomForestClassifier()\n",
    "model.fit(X_train, y_train)\n",
    "# save the model to disk\n",
    "filename = 'best_model.sav'\n",
    "pickle.dump(model, open(filename, 'wb'))\n",
    " \n",
    "# some time later...\n",
    " \n",
    "# load the model from disk\n",
    "loaded_model = pickle.load(open(filename, 'rb'))\n",
    "result = loaded_model.score(X_test, y_test)\n",
    "print(result)"
   ]
  },
  {
   "cell_type": "code",
   "execution_count": null,
   "metadata": {},
   "outputs": [],
   "source": []
  }
 ],
 "metadata": {
  "kernelspec": {
   "display_name": "Python 3 (oy-env)",
   "language": "python",
   "name": "oy-env"
  },
  "language_info": {
   "codemirror_mode": {
    "name": "ipython",
    "version": 3
   },
   "file_extension": ".py",
   "mimetype": "text/x-python",
   "name": "python",
   "nbconvert_exporter": "python",
   "pygments_lexer": "ipython3",
   "version": "3.8.5"
  }
 },
 "nbformat": 4,
 "nbformat_minor": 4
}
