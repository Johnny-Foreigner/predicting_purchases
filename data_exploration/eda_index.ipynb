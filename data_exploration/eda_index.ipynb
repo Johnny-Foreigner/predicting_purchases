{
 "cells": [
  {
   "cell_type": "code",
   "execution_count": 189,
   "metadata": {},
   "outputs": [],
   "source": [
    "import zipfile\n",
    "import pandas as pd\n",
    "import numpy as np\n",
    "import seaborn as sns\n",
    "import matplotlib.pyplot as plt\n",
    "import kaggle\n",
    "from sklearn.model_selection import train_test_split\n",
    "from sklearn import preprocessing\n",
    "from datetime import datetime\n",
    "from pandas.tseries.holiday import USFederalHolidayCalendar as calendar\n",
    "from sklearn.preprocessing import OneHotEncoder, StandardScaler, LabelBinarizer, MultiLabelBinarizer\n",
    "from imblearn.over_sampling import SMOTE\n",
    "from collections import Counter\n",
    "from sklearn.datasets import make_classification\n",
    "from imblearn.under_sampling import NearMiss\n",
    "from numpy import where\n",
    "import pickle\n",
    "\n",
    "\n",
    "\n",
    "from sklearn.ensemble import RandomForestClassifier\n",
    "from sklearn.tree import DecisionTreeClassifier\n",
    "from sklearn.model_selection import train_test_split, cross_val_score\n",
    "from sklearn.metrics import accuracy_score, confusion_matrix, classification_report, f1_score, recall_score\n",
    "from sklearn.model_selection import GridSearchCV, validation_curve\n",
    "from sklearn.metrics import plot_confusion_matrix\n",
    "import seaborn as sns\n",
    "from dask.distributed import Client"
   ]
  },
  {
   "cell_type": "markdown",
   "metadata": {},
   "source": [
    "My project is focused on predicitng wether an item will be purchased or removed from the cart on an ecomemrce store. This will be used to help in marketing, sales. On the supply chain side it will also give more insights into how a product is viewed by customers and how much a brand/product should be stocked or not."
   ]
  },
  {
   "cell_type": "markdown",
   "metadata": {},
   "source": [
    "### Importing and preparing the data"
   ]
  },
  {
   "cell_type": "code",
   "execution_count": 190,
   "metadata": {},
   "outputs": [],
   "source": [
    "#Convert csv to DataFrame\n",
    "oct19 = pd.read_csv(\"../data/2019-Oct.csv\")\n",
    "nov19 = pd.read_csv(\"../data/2019-Nov.csv\")\n",
    "dec19 = pd.read_csv(\"../data/2019-Dec.csv\")\n",
    "jan20 = pd.read_csv(\"../data/2020-Jan.csv\")\n",
    "feb20 = pd.read_csv(\"../data/2020-Feb.csv\")"
   ]
  },
  {
   "cell_type": "code",
   "execution_count": 191,
   "metadata": {},
   "outputs": [
    {
     "name": "stdout",
     "output_type": "stream",
     "text": [
      "(4102283, 9)\n",
      "(4635837, 9)\n",
      "(3533286, 9)\n",
      "(4264752, 9)\n",
      "(4156682, 9)\n",
      "20692840\n"
     ]
    }
   ],
   "source": [
    "print(oct19.shape)\n",
    "print(nov19.shape)\n",
    "print(dec19.shape)\n",
    "print(jan20.shape)\n",
    "print(feb20.shape)\n",
    "print(oct19.shape[0]+nov19.shape[0]+dec19.shape[0]+jan20.shape[0]+feb20.shape[0])"
   ]
  },
  {
   "cell_type": "code",
   "execution_count": 192,
   "metadata": {},
   "outputs": [
    {
     "name": "stdout",
     "output_type": "stream",
     "text": [
      "(20692840, 9)\n"
     ]
    }
   ],
   "source": [
    "ecom_df = pd.concat([oct19, nov19, dec19, jan20, feb20], axis=0)\n",
    "ecom_df.head()\n",
    "print(ecom_df.shape)"
   ]
  },
  {
   "cell_type": "code",
   "execution_count": 193,
   "metadata": {},
   "outputs": [
    {
     "name": "stdout",
     "output_type": "stream",
     "text": [
      "(5266686, 9)\n"
     ]
    }
   ],
   "source": [
    "# Dropping columns here to save memory latter on\n",
    "ecom_df = ecom_df[ecom_df.event_type != 'view']\n",
    "ecom_df = ecom_df[ecom_df.event_type != 'cart']\n",
    "print(ecom_df.shape)"
   ]
  },
  {
   "cell_type": "markdown",
   "metadata": {},
   "source": [
    "# Data Cleaning"
   ]
  },
  {
   "cell_type": "markdown",
   "metadata": {},
   "source": [
    "### NAs and how to deal with them"
   ]
  },
  {
   "cell_type": "code",
   "execution_count": 194,
   "metadata": {},
   "outputs": [],
   "source": [
    "#NAs in Brand\n",
    "ecom_df.brand.fillna(value=\"unknown\", axis=0, inplace=True)"
   ]
  },
  {
   "cell_type": "code",
   "execution_count": 195,
   "metadata": {},
   "outputs": [],
   "source": [
    "#NAs in user_session \n",
    "ecom_df.dropna(inplace=True)"
   ]
  },
  {
   "cell_type": "code",
   "execution_count": 196,
   "metadata": {},
   "outputs": [
    {
     "data": {
      "text/plain": [
       "0"
      ]
     },
     "execution_count": 196,
     "metadata": {},
     "output_type": "execute_result"
    }
   ],
   "source": [
    "ecom_df.category_code.isna().sum()"
   ]
  },
  {
   "cell_type": "code",
   "execution_count": 197,
   "metadata": {},
   "outputs": [
    {
     "data": {
      "text/plain": [
       "appliances.environment.vacuum             16225\n",
       "stationery.cartrige                       15751\n",
       "apparel.glove                             15683\n",
       "furniture.bathroom.bath                    4086\n",
       "furniture.living_room.cabinet              2046\n",
       "accessories.bag                             754\n",
       "accessories.cosmetic_bag                    500\n",
       "appliances.personal.hair_cutter             276\n",
       "appliances.personal.massager                212\n",
       "appliances.environment.air_conditioner      104\n",
       "furniture.living_room.chair                  26\n",
       "Name: category_code, dtype: int64"
      ]
     },
     "execution_count": 197,
     "metadata": {},
     "output_type": "execute_result"
    }
   ],
   "source": [
    "ecom_df.category_code.value_counts()"
   ]
  },
  {
   "cell_type": "code",
   "execution_count": 198,
   "metadata": {},
   "outputs": [],
   "source": [
    "#Drop this column, as we will use category code instead\n",
    "ecom_df.drop(\"category_id\", axis=1, inplace = True)"
   ]
  },
  {
   "cell_type": "code",
   "execution_count": 199,
   "metadata": {},
   "outputs": [],
   "source": [
    "#Get rid of negative prices\n",
    "ecom_df = ecom_df[ecom_df['price']>= 0]"
   ]
  },
  {
   "cell_type": "code",
   "execution_count": 200,
   "metadata": {},
   "outputs": [],
   "source": [
    "#Set target to binary\n",
    "ecom_df.event_type = ecom_df[\"event_type\"].replace({'purchase': 1, 'remove_from_cart': 0})"
   ]
  },
  {
   "cell_type": "code",
   "execution_count": 201,
   "metadata": {},
   "outputs": [
    {
     "name": "stdout",
     "output_type": "stream",
     "text": [
      "(55663, 8)\n"
     ]
    }
   ],
   "source": [
    "print(ecom_df.shape)"
   ]
  },
  {
   "cell_type": "markdown",
   "metadata": {},
   "source": [
    "# Feature Engineering"
   ]
  },
  {
   "cell_type": "markdown",
   "metadata": {},
   "source": [
    "purchase per session, group session, total of price added up for each purchase in session"
   ]
  },
  {
   "cell_type": "markdown",
   "metadata": {},
   "source": [
    "### Time FE"
   ]
  },
  {
   "cell_type": "code",
   "execution_count": 202,
   "metadata": {},
   "outputs": [],
   "source": [
    "ecom_df['event_time'] = pd.to_datetime(ecom_df['event_time'])"
   ]
  },
  {
   "cell_type": "code",
   "execution_count": 203,
   "metadata": {},
   "outputs": [
    {
     "data": {
      "text/html": [
       "<div>\n",
       "<style scoped>\n",
       "    .dataframe tbody tr th:only-of-type {\n",
       "        vertical-align: middle;\n",
       "    }\n",
       "\n",
       "    .dataframe tbody tr th {\n",
       "        vertical-align: top;\n",
       "    }\n",
       "\n",
       "    .dataframe thead th {\n",
       "        text-align: right;\n",
       "    }\n",
       "</style>\n",
       "<table border=\"1\" class=\"dataframe\">\n",
       "  <thead>\n",
       "    <tr style=\"text-align: right;\">\n",
       "      <th></th>\n",
       "      <th>event_time</th>\n",
       "      <th>event_type</th>\n",
       "      <th>product_id</th>\n",
       "      <th>category_code</th>\n",
       "      <th>brand</th>\n",
       "      <th>price</th>\n",
       "      <th>user_id</th>\n",
       "      <th>user_session</th>\n",
       "      <th>holiday</th>\n",
       "    </tr>\n",
       "  </thead>\n",
       "  <tbody>\n",
       "    <tr>\n",
       "      <th>1698825</th>\n",
       "      <td>2019-12-13 18:55:42+00:00</td>\n",
       "      <td>0</td>\n",
       "      <td>5823937</td>\n",
       "      <td>appliances.environment.vacuum</td>\n",
       "      <td>polarus</td>\n",
       "      <td>94.44</td>\n",
       "      <td>570847461</td>\n",
       "      <td>09f3c7cb-f671-4c8c-beaf-8ef29e41cec6</td>\n",
       "      <td>False</td>\n",
       "    </tr>\n",
       "    <tr>\n",
       "      <th>433712</th>\n",
       "      <td>2020-01-05 07:57:14+00:00</td>\n",
       "      <td>0</td>\n",
       "      <td>5788781</td>\n",
       "      <td>stationery.cartrige</td>\n",
       "      <td>italwax</td>\n",
       "      <td>1.98</td>\n",
       "      <td>567649406</td>\n",
       "      <td>203cbca6-91f0-47c4-8786-957f8358d173</td>\n",
       "      <td>False</td>\n",
       "    </tr>\n",
       "    <tr>\n",
       "      <th>79339</th>\n",
       "      <td>2019-12-01 16:37:20+00:00</td>\n",
       "      <td>0</td>\n",
       "      <td>5848273</td>\n",
       "      <td>appliances.environment.vacuum</td>\n",
       "      <td>polarus</td>\n",
       "      <td>14.13</td>\n",
       "      <td>479032536</td>\n",
       "      <td>b56330ec-2f18-4b09-9626-cf57a9a266bf</td>\n",
       "      <td>False</td>\n",
       "    </tr>\n",
       "    <tr>\n",
       "      <th>1084976</th>\n",
       "      <td>2020-01-10 10:09:58+00:00</td>\n",
       "      <td>0</td>\n",
       "      <td>5748491</td>\n",
       "      <td>appliances.environment.vacuum</td>\n",
       "      <td>unknown</td>\n",
       "      <td>28.56</td>\n",
       "      <td>588076485</td>\n",
       "      <td>6e59db86-3d39-4aef-abbf-af9021d75c7d</td>\n",
       "      <td>False</td>\n",
       "    </tr>\n",
       "    <tr>\n",
       "      <th>1386006</th>\n",
       "      <td>2020-02-10 07:39:22+00:00</td>\n",
       "      <td>0</td>\n",
       "      <td>5774248</td>\n",
       "      <td>furniture.living_room.cabinet</td>\n",
       "      <td>unknown</td>\n",
       "      <td>79.35</td>\n",
       "      <td>604795071</td>\n",
       "      <td>773dc3bf-6529-4b5a-aecf-11470e6b3bc8</td>\n",
       "      <td>False</td>\n",
       "    </tr>\n",
       "    <tr>\n",
       "      <th>616920</th>\n",
       "      <td>2019-12-05 15:26:07+00:00</td>\n",
       "      <td>1</td>\n",
       "      <td>5901860</td>\n",
       "      <td>apparel.glove</td>\n",
       "      <td>benovy</td>\n",
       "      <td>5.62</td>\n",
       "      <td>417009336</td>\n",
       "      <td>806f5f21-5ece-4ac7-be80-87823886dc9e</td>\n",
       "      <td>False</td>\n",
       "    </tr>\n",
       "    <tr>\n",
       "      <th>1353219</th>\n",
       "      <td>2019-12-11 09:03:35+00:00</td>\n",
       "      <td>0</td>\n",
       "      <td>6817</td>\n",
       "      <td>apparel.glove</td>\n",
       "      <td>unknown</td>\n",
       "      <td>5.24</td>\n",
       "      <td>585224572</td>\n",
       "      <td>3d14d418-16f5-4a7f-9149-cf8dee14ad0b</td>\n",
       "      <td>False</td>\n",
       "    </tr>\n",
       "    <tr>\n",
       "      <th>3075363</th>\n",
       "      <td>2019-10-23 17:50:35+00:00</td>\n",
       "      <td>0</td>\n",
       "      <td>5855507</td>\n",
       "      <td>appliances.environment.vacuum</td>\n",
       "      <td>max</td>\n",
       "      <td>79.21</td>\n",
       "      <td>532756927</td>\n",
       "      <td>b2468c87-3721-421f-84c4-4ced66e5a8ca</td>\n",
       "      <td>False</td>\n",
       "    </tr>\n",
       "    <tr>\n",
       "      <th>1181679</th>\n",
       "      <td>2019-12-10 04:47:26+00:00</td>\n",
       "      <td>0</td>\n",
       "      <td>5788781</td>\n",
       "      <td>stationery.cartrige</td>\n",
       "      <td>italwax</td>\n",
       "      <td>1.98</td>\n",
       "      <td>565036131</td>\n",
       "      <td>b3d634ac-6c42-46c8-a984-9fba5a633214</td>\n",
       "      <td>False</td>\n",
       "    </tr>\n",
       "    <tr>\n",
       "      <th>395572</th>\n",
       "      <td>2020-01-04 19:48:35+00:00</td>\n",
       "      <td>0</td>\n",
       "      <td>5902324</td>\n",
       "      <td>apparel.glove</td>\n",
       "      <td>unknown</td>\n",
       "      <td>8.89</td>\n",
       "      <td>445287623</td>\n",
       "      <td>1784c7ba-0c15-4641-a2c4-5ac5c1fbd74f</td>\n",
       "      <td>False</td>\n",
       "    </tr>\n",
       "    <tr>\n",
       "      <th>1330528</th>\n",
       "      <td>2019-10-09 19:38:21+00:00</td>\n",
       "      <td>1</td>\n",
       "      <td>5767492</td>\n",
       "      <td>stationery.cartrige</td>\n",
       "      <td>italwax</td>\n",
       "      <td>1.98</td>\n",
       "      <td>408083012</td>\n",
       "      <td>e48a902a-fe34-468d-9219-9166da9e62a3</td>\n",
       "      <td>False</td>\n",
       "    </tr>\n",
       "    <tr>\n",
       "      <th>2771411</th>\n",
       "      <td>2020-02-19 18:11:31+00:00</td>\n",
       "      <td>0</td>\n",
       "      <td>5901858</td>\n",
       "      <td>apparel.glove</td>\n",
       "      <td>benovy</td>\n",
       "      <td>5.62</td>\n",
       "      <td>543575518</td>\n",
       "      <td>39b32ab3-13d2-4a08-b4d4-a85f4f89b10e</td>\n",
       "      <td>False</td>\n",
       "    </tr>\n",
       "    <tr>\n",
       "      <th>920683</th>\n",
       "      <td>2020-02-06 19:18:55+00:00</td>\n",
       "      <td>0</td>\n",
       "      <td>5756536</td>\n",
       "      <td>apparel.glove</td>\n",
       "      <td>unknown</td>\n",
       "      <td>6.19</td>\n",
       "      <td>557459874</td>\n",
       "      <td>53d8dd49-65f9-4fdd-9b3a-f17daee28218</td>\n",
       "      <td>False</td>\n",
       "    </tr>\n",
       "    <tr>\n",
       "      <th>3933187</th>\n",
       "      <td>2020-01-29 15:26:06+00:00</td>\n",
       "      <td>0</td>\n",
       "      <td>5884577</td>\n",
       "      <td>appliances.environment.vacuum</td>\n",
       "      <td>max</td>\n",
       "      <td>47.46</td>\n",
       "      <td>598799424</td>\n",
       "      <td>a3a43d59-a363-4e4a-a335-e69ba9fd840b</td>\n",
       "      <td>False</td>\n",
       "    </tr>\n",
       "    <tr>\n",
       "      <th>4512694</th>\n",
       "      <td>2019-11-30 09:20:30+00:00</td>\n",
       "      <td>0</td>\n",
       "      <td>5889689</td>\n",
       "      <td>apparel.glove</td>\n",
       "      <td>nitrile</td>\n",
       "      <td>8.57</td>\n",
       "      <td>562540840</td>\n",
       "      <td>6f4819fa-3b2c-4a6f-8303-7adb967e8ba4</td>\n",
       "      <td>False</td>\n",
       "    </tr>\n",
       "    <tr>\n",
       "      <th>2689182</th>\n",
       "      <td>2020-02-19 08:35:37+00:00</td>\n",
       "      <td>1</td>\n",
       "      <td>5788783</td>\n",
       "      <td>stationery.cartrige</td>\n",
       "      <td>italwax</td>\n",
       "      <td>1.98</td>\n",
       "      <td>519253265</td>\n",
       "      <td>95612f32-a4bb-4bf8-ad83-640d22f291dd</td>\n",
       "      <td>False</td>\n",
       "    </tr>\n",
       "    <tr>\n",
       "      <th>3561416</th>\n",
       "      <td>2020-01-27 14:06:04+00:00</td>\n",
       "      <td>1</td>\n",
       "      <td>5749199</td>\n",
       "      <td>stationery.cartrige</td>\n",
       "      <td>italwax</td>\n",
       "      <td>1.98</td>\n",
       "      <td>249509279</td>\n",
       "      <td>79546695-e3bf-412d-a2a8-cc0a44584416</td>\n",
       "      <td>False</td>\n",
       "    </tr>\n",
       "    <tr>\n",
       "      <th>1035937</th>\n",
       "      <td>2019-12-09 07:30:06+00:00</td>\n",
       "      <td>0</td>\n",
       "      <td>5810083</td>\n",
       "      <td>appliances.environment.vacuum</td>\n",
       "      <td>irisk</td>\n",
       "      <td>24.60</td>\n",
       "      <td>584116478</td>\n",
       "      <td>9c783fd0-3fad-434b-880c-d8d00fab36af</td>\n",
       "      <td>False</td>\n",
       "    </tr>\n",
       "    <tr>\n",
       "      <th>353521</th>\n",
       "      <td>2019-12-03 16:17:33+00:00</td>\n",
       "      <td>0</td>\n",
       "      <td>6817</td>\n",
       "      <td>apparel.glove</td>\n",
       "      <td>unknown</td>\n",
       "      <td>5.24</td>\n",
       "      <td>441044742</td>\n",
       "      <td>add8e05b-ea6e-4cfc-9ff4-cbd01bdbcd60</td>\n",
       "      <td>False</td>\n",
       "    </tr>\n",
       "    <tr>\n",
       "      <th>3003745</th>\n",
       "      <td>2020-02-21 14:39:04+00:00</td>\n",
       "      <td>0</td>\n",
       "      <td>5889694</td>\n",
       "      <td>apparel.glove</td>\n",
       "      <td>nitrile</td>\n",
       "      <td>8.25</td>\n",
       "      <td>469446476</td>\n",
       "      <td>d44bc67d-f962-4c3c-9737-62eec613354b</td>\n",
       "      <td>False</td>\n",
       "    </tr>\n",
       "    <tr>\n",
       "      <th>4308089</th>\n",
       "      <td>2019-11-29 07:48:38+00:00</td>\n",
       "      <td>0</td>\n",
       "      <td>5749199</td>\n",
       "      <td>stationery.cartrige</td>\n",
       "      <td>italwax</td>\n",
       "      <td>1.84</td>\n",
       "      <td>576953581</td>\n",
       "      <td>4765b71a-49f9-4201-90b8-3417585a6ff1</td>\n",
       "      <td>False</td>\n",
       "    </tr>\n",
       "    <tr>\n",
       "      <th>3421632</th>\n",
       "      <td>2020-01-26 18:52:14+00:00</td>\n",
       "      <td>0</td>\n",
       "      <td>5914426</td>\n",
       "      <td>apparel.glove</td>\n",
       "      <td>nitrimax</td>\n",
       "      <td>9.21</td>\n",
       "      <td>511551900</td>\n",
       "      <td>4f6abcff-8f7f-46d0-b34f-236c84ccae03</td>\n",
       "      <td>False</td>\n",
       "    </tr>\n",
       "    <tr>\n",
       "      <th>421940</th>\n",
       "      <td>2019-11-04 13:31:14+00:00</td>\n",
       "      <td>0</td>\n",
       "      <td>5657899</td>\n",
       "      <td>stationery.cartrige</td>\n",
       "      <td>unknown</td>\n",
       "      <td>2.06</td>\n",
       "      <td>387467951</td>\n",
       "      <td>9694d64f-6d2a-419e-8aab-0655ac168e41</td>\n",
       "      <td>False</td>\n",
       "    </tr>\n",
       "    <tr>\n",
       "      <th>3280298</th>\n",
       "      <td>2019-12-27 22:00:20+00:00</td>\n",
       "      <td>0</td>\n",
       "      <td>5901987</td>\n",
       "      <td>apparel.glove</td>\n",
       "      <td>benovy</td>\n",
       "      <td>7.16</td>\n",
       "      <td>525821970</td>\n",
       "      <td>08b21e8d-5029-4291-839d-fec3186f5a4b</td>\n",
       "      <td>False</td>\n",
       "    </tr>\n",
       "    <tr>\n",
       "      <th>1111447</th>\n",
       "      <td>2020-01-10 13:32:41+00:00</td>\n",
       "      <td>0</td>\n",
       "      <td>82961</td>\n",
       "      <td>stationery.cartrige</td>\n",
       "      <td>depilflax</td>\n",
       "      <td>3.02</td>\n",
       "      <td>599283016</td>\n",
       "      <td>f33d8599-badb-431b-be18-dfab30bb36ca</td>\n",
       "      <td>False</td>\n",
       "    </tr>\n",
       "  </tbody>\n",
       "</table>\n",
       "</div>"
      ],
      "text/plain": [
       "                       event_time  event_type  product_id  \\\n",
       "1698825 2019-12-13 18:55:42+00:00           0     5823937   \n",
       "433712  2020-01-05 07:57:14+00:00           0     5788781   \n",
       "79339   2019-12-01 16:37:20+00:00           0     5848273   \n",
       "1084976 2020-01-10 10:09:58+00:00           0     5748491   \n",
       "1386006 2020-02-10 07:39:22+00:00           0     5774248   \n",
       "616920  2019-12-05 15:26:07+00:00           1     5901860   \n",
       "1353219 2019-12-11 09:03:35+00:00           0        6817   \n",
       "3075363 2019-10-23 17:50:35+00:00           0     5855507   \n",
       "1181679 2019-12-10 04:47:26+00:00           0     5788781   \n",
       "395572  2020-01-04 19:48:35+00:00           0     5902324   \n",
       "1330528 2019-10-09 19:38:21+00:00           1     5767492   \n",
       "2771411 2020-02-19 18:11:31+00:00           0     5901858   \n",
       "920683  2020-02-06 19:18:55+00:00           0     5756536   \n",
       "3933187 2020-01-29 15:26:06+00:00           0     5884577   \n",
       "4512694 2019-11-30 09:20:30+00:00           0     5889689   \n",
       "2689182 2020-02-19 08:35:37+00:00           1     5788783   \n",
       "3561416 2020-01-27 14:06:04+00:00           1     5749199   \n",
       "1035937 2019-12-09 07:30:06+00:00           0     5810083   \n",
       "353521  2019-12-03 16:17:33+00:00           0        6817   \n",
       "3003745 2020-02-21 14:39:04+00:00           0     5889694   \n",
       "4308089 2019-11-29 07:48:38+00:00           0     5749199   \n",
       "3421632 2020-01-26 18:52:14+00:00           0     5914426   \n",
       "421940  2019-11-04 13:31:14+00:00           0     5657899   \n",
       "3280298 2019-12-27 22:00:20+00:00           0     5901987   \n",
       "1111447 2020-01-10 13:32:41+00:00           0       82961   \n",
       "\n",
       "                         category_code      brand  price    user_id  \\\n",
       "1698825  appliances.environment.vacuum    polarus  94.44  570847461   \n",
       "433712             stationery.cartrige    italwax   1.98  567649406   \n",
       "79339    appliances.environment.vacuum    polarus  14.13  479032536   \n",
       "1084976  appliances.environment.vacuum    unknown  28.56  588076485   \n",
       "1386006  furniture.living_room.cabinet    unknown  79.35  604795071   \n",
       "616920                   apparel.glove     benovy   5.62  417009336   \n",
       "1353219                  apparel.glove    unknown   5.24  585224572   \n",
       "3075363  appliances.environment.vacuum        max  79.21  532756927   \n",
       "1181679            stationery.cartrige    italwax   1.98  565036131   \n",
       "395572                   apparel.glove    unknown   8.89  445287623   \n",
       "1330528            stationery.cartrige    italwax   1.98  408083012   \n",
       "2771411                  apparel.glove     benovy   5.62  543575518   \n",
       "920683                   apparel.glove    unknown   6.19  557459874   \n",
       "3933187  appliances.environment.vacuum        max  47.46  598799424   \n",
       "4512694                  apparel.glove    nitrile   8.57  562540840   \n",
       "2689182            stationery.cartrige    italwax   1.98  519253265   \n",
       "3561416            stationery.cartrige    italwax   1.98  249509279   \n",
       "1035937  appliances.environment.vacuum      irisk  24.60  584116478   \n",
       "353521                   apparel.glove    unknown   5.24  441044742   \n",
       "3003745                  apparel.glove    nitrile   8.25  469446476   \n",
       "4308089            stationery.cartrige    italwax   1.84  576953581   \n",
       "3421632                  apparel.glove   nitrimax   9.21  511551900   \n",
       "421940             stationery.cartrige    unknown   2.06  387467951   \n",
       "3280298                  apparel.glove     benovy   7.16  525821970   \n",
       "1111447            stationery.cartrige  depilflax   3.02  599283016   \n",
       "\n",
       "                                 user_session  holiday  \n",
       "1698825  09f3c7cb-f671-4c8c-beaf-8ef29e41cec6    False  \n",
       "433712   203cbca6-91f0-47c4-8786-957f8358d173    False  \n",
       "79339    b56330ec-2f18-4b09-9626-cf57a9a266bf    False  \n",
       "1084976  6e59db86-3d39-4aef-abbf-af9021d75c7d    False  \n",
       "1386006  773dc3bf-6529-4b5a-aecf-11470e6b3bc8    False  \n",
       "616920   806f5f21-5ece-4ac7-be80-87823886dc9e    False  \n",
       "1353219  3d14d418-16f5-4a7f-9149-cf8dee14ad0b    False  \n",
       "3075363  b2468c87-3721-421f-84c4-4ced66e5a8ca    False  \n",
       "1181679  b3d634ac-6c42-46c8-a984-9fba5a633214    False  \n",
       "395572   1784c7ba-0c15-4641-a2c4-5ac5c1fbd74f    False  \n",
       "1330528  e48a902a-fe34-468d-9219-9166da9e62a3    False  \n",
       "2771411  39b32ab3-13d2-4a08-b4d4-a85f4f89b10e    False  \n",
       "920683   53d8dd49-65f9-4fdd-9b3a-f17daee28218    False  \n",
       "3933187  a3a43d59-a363-4e4a-a335-e69ba9fd840b    False  \n",
       "4512694  6f4819fa-3b2c-4a6f-8303-7adb967e8ba4    False  \n",
       "2689182  95612f32-a4bb-4bf8-ad83-640d22f291dd    False  \n",
       "3561416  79546695-e3bf-412d-a2a8-cc0a44584416    False  \n",
       "1035937  9c783fd0-3fad-434b-880c-d8d00fab36af    False  \n",
       "353521   add8e05b-ea6e-4cfc-9ff4-cbd01bdbcd60    False  \n",
       "3003745  d44bc67d-f962-4c3c-9737-62eec613354b    False  \n",
       "4308089  4765b71a-49f9-4201-90b8-3417585a6ff1    False  \n",
       "3421632  4f6abcff-8f7f-46d0-b34f-236c84ccae03    False  \n",
       "421940   9694d64f-6d2a-419e-8aab-0655ac168e41    False  \n",
       "3280298  08b21e8d-5029-4291-839d-fec3186f5a4b    False  \n",
       "1111447  f33d8599-badb-431b-be18-dfab30bb36ca    False  "
      ]
     },
     "execution_count": 203,
     "metadata": {},
     "output_type": "execute_result"
    }
   ],
   "source": [
    "#needs checking\n",
    "dr = pd.date_range(start='2019-10-01', end='2020-02-29')\n",
    "df = pd.DataFrame()\n",
    "df['Date'] = dr\n",
    "\n",
    "cal = calendar()\n",
    "holidays = cal.holidays(start=dr.min(), end=dr.max())\n",
    "ecom_df['holiday'] = ecom_df['event_time'].isin(holidays)\n",
    "\n",
    "ecom_df.sample(25)"
   ]
  },
  {
   "cell_type": "code",
   "execution_count": 204,
   "metadata": {},
   "outputs": [
    {
     "data": {
      "text/html": [
       "<div>\n",
       "<style scoped>\n",
       "    .dataframe tbody tr th:only-of-type {\n",
       "        vertical-align: middle;\n",
       "    }\n",
       "\n",
       "    .dataframe tbody tr th {\n",
       "        vertical-align: top;\n",
       "    }\n",
       "\n",
       "    .dataframe thead th {\n",
       "        text-align: right;\n",
       "    }\n",
       "</style>\n",
       "<table border=\"1\" class=\"dataframe\">\n",
       "  <thead>\n",
       "    <tr style=\"text-align: right;\">\n",
       "      <th></th>\n",
       "      <th>event_time</th>\n",
       "      <th>event_type</th>\n",
       "      <th>product_id</th>\n",
       "      <th>category_code</th>\n",
       "      <th>brand</th>\n",
       "      <th>price</th>\n",
       "      <th>user_id</th>\n",
       "      <th>user_session</th>\n",
       "      <th>holiday</th>\n",
       "      <th>month</th>\n",
       "      <th>2020</th>\n",
       "      <th>hour</th>\n",
       "    </tr>\n",
       "  </thead>\n",
       "  <tbody>\n",
       "    <tr>\n",
       "      <th>264</th>\n",
       "      <td>2019-10-01 00:07:58+00:00</td>\n",
       "      <td>0</td>\n",
       "      <td>5767493</td>\n",
       "      <td>stationery.cartrige</td>\n",
       "      <td>italwax</td>\n",
       "      <td>2.14</td>\n",
       "      <td>514753614</td>\n",
       "      <td>e2fecb2d-22d0-df2c-c661-15da44b3ccf1</td>\n",
       "      <td>False</td>\n",
       "      <td>10</td>\n",
       "      <td>2019</td>\n",
       "      <td>0</td>\n",
       "    </tr>\n",
       "    <tr>\n",
       "      <th>269</th>\n",
       "      <td>2019-10-01 00:08:03+00:00</td>\n",
       "      <td>0</td>\n",
       "      <td>5759489</td>\n",
       "      <td>stationery.cartrige</td>\n",
       "      <td>italwax</td>\n",
       "      <td>2.14</td>\n",
       "      <td>514753614</td>\n",
       "      <td>e2fecb2d-22d0-df2c-c661-15da44b3ccf1</td>\n",
       "      <td>False</td>\n",
       "      <td>10</td>\n",
       "      <td>2019</td>\n",
       "      <td>0</td>\n",
       "    </tr>\n",
       "    <tr>\n",
       "      <th>274</th>\n",
       "      <td>2019-10-01 00:08:08+00:00</td>\n",
       "      <td>0</td>\n",
       "      <td>5657894</td>\n",
       "      <td>stationery.cartrige</td>\n",
       "      <td>unknown</td>\n",
       "      <td>2.06</td>\n",
       "      <td>514753614</td>\n",
       "      <td>e2fecb2d-22d0-df2c-c661-15da44b3ccf1</td>\n",
       "      <td>False</td>\n",
       "      <td>10</td>\n",
       "      <td>2019</td>\n",
       "      <td>0</td>\n",
       "    </tr>\n",
       "    <tr>\n",
       "      <th>276</th>\n",
       "      <td>2019-10-01 00:08:10+00:00</td>\n",
       "      <td>0</td>\n",
       "      <td>24336</td>\n",
       "      <td>stationery.cartrige</td>\n",
       "      <td>depilflax</td>\n",
       "      <td>3.02</td>\n",
       "      <td>514753614</td>\n",
       "      <td>e2fecb2d-22d0-df2c-c661-15da44b3ccf1</td>\n",
       "      <td>False</td>\n",
       "      <td>10</td>\n",
       "      <td>2019</td>\n",
       "      <td>0</td>\n",
       "    </tr>\n",
       "    <tr>\n",
       "      <th>278</th>\n",
       "      <td>2019-10-01 00:08:18+00:00</td>\n",
       "      <td>0</td>\n",
       "      <td>5775822</td>\n",
       "      <td>stationery.cartrige</td>\n",
       "      <td>italwax</td>\n",
       "      <td>2.14</td>\n",
       "      <td>514753614</td>\n",
       "      <td>e2fecb2d-22d0-df2c-c661-15da44b3ccf1</td>\n",
       "      <td>False</td>\n",
       "      <td>10</td>\n",
       "      <td>2019</td>\n",
       "      <td>0</td>\n",
       "    </tr>\n",
       "  </tbody>\n",
       "</table>\n",
       "</div>"
      ],
      "text/plain": [
       "                   event_time  event_type  product_id        category_code  \\\n",
       "264 2019-10-01 00:07:58+00:00           0     5767493  stationery.cartrige   \n",
       "269 2019-10-01 00:08:03+00:00           0     5759489  stationery.cartrige   \n",
       "274 2019-10-01 00:08:08+00:00           0     5657894  stationery.cartrige   \n",
       "276 2019-10-01 00:08:10+00:00           0       24336  stationery.cartrige   \n",
       "278 2019-10-01 00:08:18+00:00           0     5775822  stationery.cartrige   \n",
       "\n",
       "         brand  price    user_id                          user_session  \\\n",
       "264    italwax   2.14  514753614  e2fecb2d-22d0-df2c-c661-15da44b3ccf1   \n",
       "269    italwax   2.14  514753614  e2fecb2d-22d0-df2c-c661-15da44b3ccf1   \n",
       "274    unknown   2.06  514753614  e2fecb2d-22d0-df2c-c661-15da44b3ccf1   \n",
       "276  depilflax   3.02  514753614  e2fecb2d-22d0-df2c-c661-15da44b3ccf1   \n",
       "278    italwax   2.14  514753614  e2fecb2d-22d0-df2c-c661-15da44b3ccf1   \n",
       "\n",
       "     holiday  month  2020  hour  \n",
       "264    False     10  2019     0  \n",
       "269    False     10  2019     0  \n",
       "274    False     10  2019     0  \n",
       "276    False     10  2019     0  \n",
       "278    False     10  2019     0  "
      ]
     },
     "execution_count": 204,
     "metadata": {},
     "output_type": "execute_result"
    }
   ],
   "source": [
    "ecom_df['month'] = pd.DatetimeIndex(ecom_df['event_time']).month\n",
    "ecom_df['2020'] = pd.DatetimeIndex(ecom_df['event_time']).year\n",
    "ecom_df['hour'] = pd.DatetimeIndex(ecom_df['event_time']).hour\n",
    "ecom_df.head()"
   ]
  },
  {
   "cell_type": "code",
   "execution_count": 205,
   "metadata": {},
   "outputs": [],
   "source": [
    "#convert year to binary\n",
    "ecom_df['2020'] = ecom_df['2020'].replace({2019: 0, 2020: 1})"
   ]
  },
  {
   "cell_type": "code",
   "execution_count": 206,
   "metadata": {},
   "outputs": [],
   "source": [
    "ecom_df['day'] = ecom_df['event_time'].dt.dayofweek\n",
    "ecom_df['day'] = ecom_df['day'].replace({0: 'Monday', 1: 'Tuesday', 2: 'Wednesday', 3: 'Thursday', 4: 'Friday', 5: 'Saturday', 6: 'Sunday'})"
   ]
  },
  {
   "cell_type": "code",
   "execution_count": 207,
   "metadata": {},
   "outputs": [],
   "source": [
    "when_df = pd.DataFrame({'hour':range(1, 25)})\n",
    "bins = [0,6,12,18,24]\n",
    "labels = ['Night', 'Morning','Afternoon','Evening']\n",
    "when_df['when'] = pd.cut(when_df['hour'], bins=bins, labels=labels, include_lowest=True)\n",
    "#fix bellow\n",
    "ecom_df = ecom_df.join(when_df['when'], on=\"hour\")"
   ]
  },
  {
   "cell_type": "code",
   "execution_count": 208,
   "metadata": {},
   "outputs": [],
   "source": [
    "ecom_df['month'] = ecom_df['month'].replace({1: 'January', 2: 'Febuary', 10: 'October', 11: 'November', 12: 'December'})"
   ]
  },
  {
   "cell_type": "code",
   "execution_count": 209,
   "metadata": {},
   "outputs": [
    {
     "name": "stdout",
     "output_type": "stream",
     "text": [
      "(55663, 14)\n"
     ]
    }
   ],
   "source": [
    "print(ecom_df.shape)"
   ]
  },
  {
   "cell_type": "code",
   "execution_count": 176,
   "metadata": {},
   "outputs": [],
   "source": [
    "#ecom_df[\"current_session_clicks\"] = ecom_df.groupby(['user_session'])['event_type'].cumsum()"
   ]
  },
  {
   "cell_type": "code",
   "execution_count": 177,
   "metadata": {},
   "outputs": [],
   "source": [
    "#need to turn the features into numeric for bellow to work\n",
    "#ecom_df[\"current_session_event_types\"] = ecom_df.groupby(['user_session'])['event_type'].cumsum()"
   ]
  },
  {
   "cell_type": "code",
   "execution_count": 178,
   "metadata": {},
   "outputs": [],
   "source": [
    "#ecom_df[\"session_cumulative_events\"] = ecom_df.groupby(ecom_df.user_session)[\"event_type\"].cumsum()\n",
    "#ecom_df.head()"
   ]
  },
  {
   "cell_type": "markdown",
   "metadata": {},
   "source": [
    "# Labeling"
   ]
  },
  {
   "cell_type": "code",
   "execution_count": 179,
   "metadata": {},
   "outputs": [
    {
     "data": {
      "text/html": [
       "<div>\n",
       "<style scoped>\n",
       "    .dataframe tbody tr th:only-of-type {\n",
       "        vertical-align: middle;\n",
       "    }\n",
       "\n",
       "    .dataframe tbody tr th {\n",
       "        vertical-align: top;\n",
       "    }\n",
       "\n",
       "    .dataframe thead th {\n",
       "        text-align: right;\n",
       "    }\n",
       "</style>\n",
       "<table border=\"1\" class=\"dataframe\">\n",
       "  <thead>\n",
       "    <tr style=\"text-align: right;\">\n",
       "      <th></th>\n",
       "      <th>babyliss</th>\n",
       "      <th>benovy</th>\n",
       "      <th>cutrin</th>\n",
       "      <th>depilflax</th>\n",
       "      <th>dewal</th>\n",
       "      <th>domix</th>\n",
       "      <th>emil</th>\n",
       "      <th>farmavita</th>\n",
       "      <th>farmona</th>\n",
       "      <th>gehwol</th>\n",
       "      <th>...</th>\n",
       "      <th>nitrimax</th>\n",
       "      <th>oniq</th>\n",
       "      <th>polarus</th>\n",
       "      <th>profepil</th>\n",
       "      <th>runail</th>\n",
       "      <th>shifei</th>\n",
       "      <th>shik</th>\n",
       "      <th>unknown</th>\n",
       "      <th>vosev</th>\n",
       "      <th>yoko</th>\n",
       "    </tr>\n",
       "  </thead>\n",
       "  <tbody>\n",
       "    <tr>\n",
       "      <th>264</th>\n",
       "      <td>0</td>\n",
       "      <td>0</td>\n",
       "      <td>0</td>\n",
       "      <td>0</td>\n",
       "      <td>0</td>\n",
       "      <td>0</td>\n",
       "      <td>0</td>\n",
       "      <td>0</td>\n",
       "      <td>0</td>\n",
       "      <td>0</td>\n",
       "      <td>...</td>\n",
       "      <td>0</td>\n",
       "      <td>0</td>\n",
       "      <td>0</td>\n",
       "      <td>0</td>\n",
       "      <td>0</td>\n",
       "      <td>0</td>\n",
       "      <td>0</td>\n",
       "      <td>0</td>\n",
       "      <td>0</td>\n",
       "      <td>0</td>\n",
       "    </tr>\n",
       "    <tr>\n",
       "      <th>269</th>\n",
       "      <td>0</td>\n",
       "      <td>0</td>\n",
       "      <td>0</td>\n",
       "      <td>0</td>\n",
       "      <td>0</td>\n",
       "      <td>0</td>\n",
       "      <td>0</td>\n",
       "      <td>0</td>\n",
       "      <td>0</td>\n",
       "      <td>0</td>\n",
       "      <td>...</td>\n",
       "      <td>0</td>\n",
       "      <td>0</td>\n",
       "      <td>0</td>\n",
       "      <td>0</td>\n",
       "      <td>0</td>\n",
       "      <td>0</td>\n",
       "      <td>0</td>\n",
       "      <td>0</td>\n",
       "      <td>0</td>\n",
       "      <td>0</td>\n",
       "    </tr>\n",
       "    <tr>\n",
       "      <th>274</th>\n",
       "      <td>0</td>\n",
       "      <td>0</td>\n",
       "      <td>0</td>\n",
       "      <td>0</td>\n",
       "      <td>0</td>\n",
       "      <td>0</td>\n",
       "      <td>0</td>\n",
       "      <td>0</td>\n",
       "      <td>0</td>\n",
       "      <td>0</td>\n",
       "      <td>...</td>\n",
       "      <td>0</td>\n",
       "      <td>0</td>\n",
       "      <td>0</td>\n",
       "      <td>0</td>\n",
       "      <td>0</td>\n",
       "      <td>0</td>\n",
       "      <td>0</td>\n",
       "      <td>1</td>\n",
       "      <td>0</td>\n",
       "      <td>0</td>\n",
       "    </tr>\n",
       "    <tr>\n",
       "      <th>276</th>\n",
       "      <td>0</td>\n",
       "      <td>0</td>\n",
       "      <td>0</td>\n",
       "      <td>1</td>\n",
       "      <td>0</td>\n",
       "      <td>0</td>\n",
       "      <td>0</td>\n",
       "      <td>0</td>\n",
       "      <td>0</td>\n",
       "      <td>0</td>\n",
       "      <td>...</td>\n",
       "      <td>0</td>\n",
       "      <td>0</td>\n",
       "      <td>0</td>\n",
       "      <td>0</td>\n",
       "      <td>0</td>\n",
       "      <td>0</td>\n",
       "      <td>0</td>\n",
       "      <td>0</td>\n",
       "      <td>0</td>\n",
       "      <td>0</td>\n",
       "    </tr>\n",
       "    <tr>\n",
       "      <th>278</th>\n",
       "      <td>0</td>\n",
       "      <td>0</td>\n",
       "      <td>0</td>\n",
       "      <td>0</td>\n",
       "      <td>0</td>\n",
       "      <td>0</td>\n",
       "      <td>0</td>\n",
       "      <td>0</td>\n",
       "      <td>0</td>\n",
       "      <td>0</td>\n",
       "      <td>...</td>\n",
       "      <td>0</td>\n",
       "      <td>0</td>\n",
       "      <td>0</td>\n",
       "      <td>0</td>\n",
       "      <td>0</td>\n",
       "      <td>0</td>\n",
       "      <td>0</td>\n",
       "      <td>0</td>\n",
       "      <td>0</td>\n",
       "      <td>0</td>\n",
       "    </tr>\n",
       "  </tbody>\n",
       "</table>\n",
       "<p>5 rows × 36 columns</p>\n",
       "</div>"
      ],
      "text/plain": [
       "     babyliss  benovy  cutrin  depilflax  dewal  domix  emil  farmavita  \\\n",
       "264         0       0       0          0      0      0     0          0   \n",
       "269         0       0       0          0      0      0     0          0   \n",
       "274         0       0       0          0      0      0     0          0   \n",
       "276         0       0       0          1      0      0     0          0   \n",
       "278         0       0       0          0      0      0     0          0   \n",
       "\n",
       "     farmona  gehwol  ...  nitrimax  oniq  polarus  profepil  runail  shifei  \\\n",
       "264        0       0  ...         0     0        0         0       0       0   \n",
       "269        0       0  ...         0     0        0         0       0       0   \n",
       "274        0       0  ...         0     0        0         0       0       0   \n",
       "276        0       0  ...         0     0        0         0       0       0   \n",
       "278        0       0  ...         0     0        0         0       0       0   \n",
       "\n",
       "     shik  unknown  vosev  yoko  \n",
       "264     0        0      0     0  \n",
       "269     0        0      0     0  \n",
       "274     0        1      0     0  \n",
       "276     0        0      0     0  \n",
       "278     0        0      0     0  \n",
       "\n",
       "[5 rows x 36 columns]"
      ]
     },
     "execution_count": 179,
     "metadata": {},
     "output_type": "execute_result"
    }
   ],
   "source": [
    "encoder = LabelBinarizer()\n",
    "brand_labels = pd.DataFrame(encoder.fit_transform(ecom_df['brand']), columns=encoder.classes_, index=ecom_df.index)\n",
    "brand_labels.head()"
   ]
  },
  {
   "cell_type": "code",
   "execution_count": 180,
   "metadata": {},
   "outputs": [
    {
     "data": {
      "text/html": [
       "<div>\n",
       "<style scoped>\n",
       "    .dataframe tbody tr th:only-of-type {\n",
       "        vertical-align: middle;\n",
       "    }\n",
       "\n",
       "    .dataframe tbody tr th {\n",
       "        vertical-align: top;\n",
       "    }\n",
       "\n",
       "    .dataframe thead th {\n",
       "        text-align: right;\n",
       "    }\n",
       "</style>\n",
       "<table border=\"1\" class=\"dataframe\">\n",
       "  <thead>\n",
       "    <tr style=\"text-align: right;\">\n",
       "      <th></th>\n",
       "      <th>4923</th>\n",
       "      <th>4962</th>\n",
       "      <th>4965</th>\n",
       "      <th>4986</th>\n",
       "      <th>5395</th>\n",
       "      <th>6736</th>\n",
       "      <th>6737</th>\n",
       "      <th>6817</th>\n",
       "      <th>8098</th>\n",
       "      <th>8372</th>\n",
       "      <th>...</th>\n",
       "      <th>5926444</th>\n",
       "      <th>5926445</th>\n",
       "      <th>5926580</th>\n",
       "      <th>5926583</th>\n",
       "      <th>5926585</th>\n",
       "      <th>5926586</th>\n",
       "      <th>5928359</th>\n",
       "      <th>5929649</th>\n",
       "      <th>5929650</th>\n",
       "      <th>5929651</th>\n",
       "    </tr>\n",
       "  </thead>\n",
       "  <tbody>\n",
       "    <tr>\n",
       "      <th>264</th>\n",
       "      <td>0</td>\n",
       "      <td>0</td>\n",
       "      <td>0</td>\n",
       "      <td>0</td>\n",
       "      <td>0</td>\n",
       "      <td>0</td>\n",
       "      <td>0</td>\n",
       "      <td>0</td>\n",
       "      <td>0</td>\n",
       "      <td>0</td>\n",
       "      <td>...</td>\n",
       "      <td>0</td>\n",
       "      <td>0</td>\n",
       "      <td>0</td>\n",
       "      <td>0</td>\n",
       "      <td>0</td>\n",
       "      <td>0</td>\n",
       "      <td>0</td>\n",
       "      <td>0</td>\n",
       "      <td>0</td>\n",
       "      <td>0</td>\n",
       "    </tr>\n",
       "    <tr>\n",
       "      <th>269</th>\n",
       "      <td>0</td>\n",
       "      <td>0</td>\n",
       "      <td>0</td>\n",
       "      <td>0</td>\n",
       "      <td>0</td>\n",
       "      <td>0</td>\n",
       "      <td>0</td>\n",
       "      <td>0</td>\n",
       "      <td>0</td>\n",
       "      <td>0</td>\n",
       "      <td>...</td>\n",
       "      <td>0</td>\n",
       "      <td>0</td>\n",
       "      <td>0</td>\n",
       "      <td>0</td>\n",
       "      <td>0</td>\n",
       "      <td>0</td>\n",
       "      <td>0</td>\n",
       "      <td>0</td>\n",
       "      <td>0</td>\n",
       "      <td>0</td>\n",
       "    </tr>\n",
       "    <tr>\n",
       "      <th>274</th>\n",
       "      <td>0</td>\n",
       "      <td>0</td>\n",
       "      <td>0</td>\n",
       "      <td>0</td>\n",
       "      <td>0</td>\n",
       "      <td>0</td>\n",
       "      <td>0</td>\n",
       "      <td>0</td>\n",
       "      <td>0</td>\n",
       "      <td>0</td>\n",
       "      <td>...</td>\n",
       "      <td>0</td>\n",
       "      <td>0</td>\n",
       "      <td>0</td>\n",
       "      <td>0</td>\n",
       "      <td>0</td>\n",
       "      <td>0</td>\n",
       "      <td>0</td>\n",
       "      <td>0</td>\n",
       "      <td>0</td>\n",
       "      <td>0</td>\n",
       "    </tr>\n",
       "    <tr>\n",
       "      <th>276</th>\n",
       "      <td>0</td>\n",
       "      <td>0</td>\n",
       "      <td>0</td>\n",
       "      <td>0</td>\n",
       "      <td>0</td>\n",
       "      <td>0</td>\n",
       "      <td>0</td>\n",
       "      <td>0</td>\n",
       "      <td>0</td>\n",
       "      <td>0</td>\n",
       "      <td>...</td>\n",
       "      <td>0</td>\n",
       "      <td>0</td>\n",
       "      <td>0</td>\n",
       "      <td>0</td>\n",
       "      <td>0</td>\n",
       "      <td>0</td>\n",
       "      <td>0</td>\n",
       "      <td>0</td>\n",
       "      <td>0</td>\n",
       "      <td>0</td>\n",
       "    </tr>\n",
       "    <tr>\n",
       "      <th>278</th>\n",
       "      <td>0</td>\n",
       "      <td>0</td>\n",
       "      <td>0</td>\n",
       "      <td>0</td>\n",
       "      <td>0</td>\n",
       "      <td>0</td>\n",
       "      <td>0</td>\n",
       "      <td>0</td>\n",
       "      <td>0</td>\n",
       "      <td>0</td>\n",
       "      <td>...</td>\n",
       "      <td>0</td>\n",
       "      <td>0</td>\n",
       "      <td>0</td>\n",
       "      <td>0</td>\n",
       "      <td>0</td>\n",
       "      <td>0</td>\n",
       "      <td>0</td>\n",
       "      <td>0</td>\n",
       "      <td>0</td>\n",
       "      <td>0</td>\n",
       "    </tr>\n",
       "  </tbody>\n",
       "</table>\n",
       "<p>5 rows × 482 columns</p>\n",
       "</div>"
      ],
      "text/plain": [
       "     4923     4962     4965     4986     5395     6736     6737     6817     \\\n",
       "264        0        0        0        0        0        0        0        0   \n",
       "269        0        0        0        0        0        0        0        0   \n",
       "274        0        0        0        0        0        0        0        0   \n",
       "276        0        0        0        0        0        0        0        0   \n",
       "278        0        0        0        0        0        0        0        0   \n",
       "\n",
       "     8098     8372     ...  5926444  5926445  5926580  5926583  5926585  \\\n",
       "264        0        0  ...        0        0        0        0        0   \n",
       "269        0        0  ...        0        0        0        0        0   \n",
       "274        0        0  ...        0        0        0        0        0   \n",
       "276        0        0  ...        0        0        0        0        0   \n",
       "278        0        0  ...        0        0        0        0        0   \n",
       "\n",
       "     5926586  5928359  5929649  5929650  5929651  \n",
       "264        0        0        0        0        0  \n",
       "269        0        0        0        0        0  \n",
       "274        0        0        0        0        0  \n",
       "276        0        0        0        0        0  \n",
       "278        0        0        0        0        0  \n",
       "\n",
       "[5 rows x 482 columns]"
      ]
     },
     "execution_count": 180,
     "metadata": {},
     "output_type": "execute_result"
    }
   ],
   "source": [
    "encoder = LabelBinarizer()\n",
    "productid_labels = pd.DataFrame(encoder.fit_transform(ecom_df['product_id']), columns=encoder.classes_, index=ecom_df.index)\n",
    "productid_labels.head()"
   ]
  },
  {
   "cell_type": "code",
   "execution_count": 181,
   "metadata": {},
   "outputs": [
    {
     "data": {
      "text/html": [
       "<div>\n",
       "<style scoped>\n",
       "    .dataframe tbody tr th:only-of-type {\n",
       "        vertical-align: middle;\n",
       "    }\n",
       "\n",
       "    .dataframe tbody tr th {\n",
       "        vertical-align: top;\n",
       "    }\n",
       "\n",
       "    .dataframe thead th {\n",
       "        text-align: right;\n",
       "    }\n",
       "</style>\n",
       "<table border=\"1\" class=\"dataframe\">\n",
       "  <thead>\n",
       "    <tr style=\"text-align: right;\">\n",
       "      <th></th>\n",
       "      <th>category_code_accessories.cosmetic_bag</th>\n",
       "      <th>category_code_apparel.glove</th>\n",
       "      <th>category_code_appliances.environment.air_conditioner</th>\n",
       "      <th>category_code_appliances.environment.vacuum</th>\n",
       "      <th>category_code_appliances.personal.hair_cutter</th>\n",
       "      <th>category_code_appliances.personal.massager</th>\n",
       "      <th>category_code_furniture.bathroom.bath</th>\n",
       "      <th>category_code_furniture.living_room.cabinet</th>\n",
       "      <th>category_code_furniture.living_room.chair</th>\n",
       "      <th>category_code_stationery.cartrige</th>\n",
       "    </tr>\n",
       "  </thead>\n",
       "  <tbody>\n",
       "    <tr>\n",
       "      <th>264</th>\n",
       "      <td>0.0</td>\n",
       "      <td>0.0</td>\n",
       "      <td>0.0</td>\n",
       "      <td>0.0</td>\n",
       "      <td>0.0</td>\n",
       "      <td>0.0</td>\n",
       "      <td>0.0</td>\n",
       "      <td>0.0</td>\n",
       "      <td>0.0</td>\n",
       "      <td>1.0</td>\n",
       "    </tr>\n",
       "    <tr>\n",
       "      <th>269</th>\n",
       "      <td>0.0</td>\n",
       "      <td>0.0</td>\n",
       "      <td>0.0</td>\n",
       "      <td>0.0</td>\n",
       "      <td>0.0</td>\n",
       "      <td>0.0</td>\n",
       "      <td>0.0</td>\n",
       "      <td>0.0</td>\n",
       "      <td>0.0</td>\n",
       "      <td>1.0</td>\n",
       "    </tr>\n",
       "    <tr>\n",
       "      <th>274</th>\n",
       "      <td>0.0</td>\n",
       "      <td>0.0</td>\n",
       "      <td>0.0</td>\n",
       "      <td>0.0</td>\n",
       "      <td>0.0</td>\n",
       "      <td>0.0</td>\n",
       "      <td>0.0</td>\n",
       "      <td>0.0</td>\n",
       "      <td>0.0</td>\n",
       "      <td>1.0</td>\n",
       "    </tr>\n",
       "    <tr>\n",
       "      <th>276</th>\n",
       "      <td>0.0</td>\n",
       "      <td>0.0</td>\n",
       "      <td>0.0</td>\n",
       "      <td>0.0</td>\n",
       "      <td>0.0</td>\n",
       "      <td>0.0</td>\n",
       "      <td>0.0</td>\n",
       "      <td>0.0</td>\n",
       "      <td>0.0</td>\n",
       "      <td>1.0</td>\n",
       "    </tr>\n",
       "    <tr>\n",
       "      <th>278</th>\n",
       "      <td>0.0</td>\n",
       "      <td>0.0</td>\n",
       "      <td>0.0</td>\n",
       "      <td>0.0</td>\n",
       "      <td>0.0</td>\n",
       "      <td>0.0</td>\n",
       "      <td>0.0</td>\n",
       "      <td>0.0</td>\n",
       "      <td>0.0</td>\n",
       "      <td>1.0</td>\n",
       "    </tr>\n",
       "  </tbody>\n",
       "</table>\n",
       "</div>"
      ],
      "text/plain": [
       "     category_code_accessories.cosmetic_bag  category_code_apparel.glove  \\\n",
       "264                                     0.0                          0.0   \n",
       "269                                     0.0                          0.0   \n",
       "274                                     0.0                          0.0   \n",
       "276                                     0.0                          0.0   \n",
       "278                                     0.0                          0.0   \n",
       "\n",
       "     category_code_appliances.environment.air_conditioner  \\\n",
       "264                                                0.0      \n",
       "269                                                0.0      \n",
       "274                                                0.0      \n",
       "276                                                0.0      \n",
       "278                                                0.0      \n",
       "\n",
       "     category_code_appliances.environment.vacuum  \\\n",
       "264                                          0.0   \n",
       "269                                          0.0   \n",
       "274                                          0.0   \n",
       "276                                          0.0   \n",
       "278                                          0.0   \n",
       "\n",
       "     category_code_appliances.personal.hair_cutter  \\\n",
       "264                                            0.0   \n",
       "269                                            0.0   \n",
       "274                                            0.0   \n",
       "276                                            0.0   \n",
       "278                                            0.0   \n",
       "\n",
       "     category_code_appliances.personal.massager  \\\n",
       "264                                         0.0   \n",
       "269                                         0.0   \n",
       "274                                         0.0   \n",
       "276                                         0.0   \n",
       "278                                         0.0   \n",
       "\n",
       "     category_code_furniture.bathroom.bath  \\\n",
       "264                                    0.0   \n",
       "269                                    0.0   \n",
       "274                                    0.0   \n",
       "276                                    0.0   \n",
       "278                                    0.0   \n",
       "\n",
       "     category_code_furniture.living_room.cabinet  \\\n",
       "264                                          0.0   \n",
       "269                                          0.0   \n",
       "274                                          0.0   \n",
       "276                                          0.0   \n",
       "278                                          0.0   \n",
       "\n",
       "     category_code_furniture.living_room.chair  \\\n",
       "264                                        0.0   \n",
       "269                                        0.0   \n",
       "274                                        0.0   \n",
       "276                                        0.0   \n",
       "278                                        0.0   \n",
       "\n",
       "     category_code_stationery.cartrige  \n",
       "264                                1.0  \n",
       "269                                1.0  \n",
       "274                                1.0  \n",
       "276                                1.0  \n",
       "278                                1.0  "
      ]
     },
     "execution_count": 181,
     "metadata": {},
     "output_type": "execute_result"
    }
   ],
   "source": [
    "ohe = OneHotEncoder(sparse=False, drop='first')\n",
    "catco_labels = pd.DataFrame(ohe.fit_transform(ecom_df[['category_code']]), index=ecom_df.index, columns=ohe.get_feature_names(ecom_df[[\"category_code\"]].columns))\n",
    "catco_labels.head()"
   ]
  },
  {
   "cell_type": "code",
   "execution_count": 182,
   "metadata": {},
   "outputs": [
    {
     "data": {
      "text/html": [
       "<div>\n",
       "<style scoped>\n",
       "    .dataframe tbody tr th:only-of-type {\n",
       "        vertical-align: middle;\n",
       "    }\n",
       "\n",
       "    .dataframe tbody tr th {\n",
       "        vertical-align: top;\n",
       "    }\n",
       "\n",
       "    .dataframe thead th {\n",
       "        text-align: right;\n",
       "    }\n",
       "</style>\n",
       "<table border=\"1\" class=\"dataframe\">\n",
       "  <thead>\n",
       "    <tr style=\"text-align: right;\">\n",
       "      <th></th>\n",
       "      <th>day_Monday</th>\n",
       "      <th>day_Saturday</th>\n",
       "      <th>day_Sunday</th>\n",
       "      <th>day_Thursday</th>\n",
       "      <th>day_Tuesday</th>\n",
       "      <th>day_Wednesday</th>\n",
       "    </tr>\n",
       "  </thead>\n",
       "  <tbody>\n",
       "    <tr>\n",
       "      <th>264</th>\n",
       "      <td>0.0</td>\n",
       "      <td>0.0</td>\n",
       "      <td>0.0</td>\n",
       "      <td>0.0</td>\n",
       "      <td>1.0</td>\n",
       "      <td>0.0</td>\n",
       "    </tr>\n",
       "    <tr>\n",
       "      <th>269</th>\n",
       "      <td>0.0</td>\n",
       "      <td>0.0</td>\n",
       "      <td>0.0</td>\n",
       "      <td>0.0</td>\n",
       "      <td>1.0</td>\n",
       "      <td>0.0</td>\n",
       "    </tr>\n",
       "    <tr>\n",
       "      <th>274</th>\n",
       "      <td>0.0</td>\n",
       "      <td>0.0</td>\n",
       "      <td>0.0</td>\n",
       "      <td>0.0</td>\n",
       "      <td>1.0</td>\n",
       "      <td>0.0</td>\n",
       "    </tr>\n",
       "    <tr>\n",
       "      <th>276</th>\n",
       "      <td>0.0</td>\n",
       "      <td>0.0</td>\n",
       "      <td>0.0</td>\n",
       "      <td>0.0</td>\n",
       "      <td>1.0</td>\n",
       "      <td>0.0</td>\n",
       "    </tr>\n",
       "    <tr>\n",
       "      <th>278</th>\n",
       "      <td>0.0</td>\n",
       "      <td>0.0</td>\n",
       "      <td>0.0</td>\n",
       "      <td>0.0</td>\n",
       "      <td>1.0</td>\n",
       "      <td>0.0</td>\n",
       "    </tr>\n",
       "  </tbody>\n",
       "</table>\n",
       "</div>"
      ],
      "text/plain": [
       "     day_Monday  day_Saturday  day_Sunday  day_Thursday  day_Tuesday  \\\n",
       "264         0.0           0.0         0.0           0.0          1.0   \n",
       "269         0.0           0.0         0.0           0.0          1.0   \n",
       "274         0.0           0.0         0.0           0.0          1.0   \n",
       "276         0.0           0.0         0.0           0.0          1.0   \n",
       "278         0.0           0.0         0.0           0.0          1.0   \n",
       "\n",
       "     day_Wednesday  \n",
       "264            0.0  \n",
       "269            0.0  \n",
       "274            0.0  \n",
       "276            0.0  \n",
       "278            0.0  "
      ]
     },
     "execution_count": 182,
     "metadata": {},
     "output_type": "execute_result"
    }
   ],
   "source": [
    "ohe = OneHotEncoder(sparse=False, drop='first')\n",
    "day_labels = pd.DataFrame(ohe.fit_transform(ecom_df[['day']]), index=ecom_df.index, columns=ohe.get_feature_names(ecom_df[[\"day\"]].columns))\n",
    "day_labels.head()"
   ]
  },
  {
   "cell_type": "code",
   "execution_count": 183,
   "metadata": {},
   "outputs": [
    {
     "data": {
      "text/html": [
       "<div>\n",
       "<style scoped>\n",
       "    .dataframe tbody tr th:only-of-type {\n",
       "        vertical-align: middle;\n",
       "    }\n",
       "\n",
       "    .dataframe tbody tr th {\n",
       "        vertical-align: top;\n",
       "    }\n",
       "\n",
       "    .dataframe thead th {\n",
       "        text-align: right;\n",
       "    }\n",
       "</style>\n",
       "<table border=\"1\" class=\"dataframe\">\n",
       "  <thead>\n",
       "    <tr style=\"text-align: right;\">\n",
       "      <th></th>\n",
       "      <th>month_Febuary</th>\n",
       "      <th>month_January</th>\n",
       "      <th>month_November</th>\n",
       "      <th>month_October</th>\n",
       "    </tr>\n",
       "  </thead>\n",
       "  <tbody>\n",
       "    <tr>\n",
       "      <th>264</th>\n",
       "      <td>0.0</td>\n",
       "      <td>0.0</td>\n",
       "      <td>0.0</td>\n",
       "      <td>1.0</td>\n",
       "    </tr>\n",
       "    <tr>\n",
       "      <th>269</th>\n",
       "      <td>0.0</td>\n",
       "      <td>0.0</td>\n",
       "      <td>0.0</td>\n",
       "      <td>1.0</td>\n",
       "    </tr>\n",
       "    <tr>\n",
       "      <th>274</th>\n",
       "      <td>0.0</td>\n",
       "      <td>0.0</td>\n",
       "      <td>0.0</td>\n",
       "      <td>1.0</td>\n",
       "    </tr>\n",
       "    <tr>\n",
       "      <th>276</th>\n",
       "      <td>0.0</td>\n",
       "      <td>0.0</td>\n",
       "      <td>0.0</td>\n",
       "      <td>1.0</td>\n",
       "    </tr>\n",
       "    <tr>\n",
       "      <th>278</th>\n",
       "      <td>0.0</td>\n",
       "      <td>0.0</td>\n",
       "      <td>0.0</td>\n",
       "      <td>1.0</td>\n",
       "    </tr>\n",
       "  </tbody>\n",
       "</table>\n",
       "</div>"
      ],
      "text/plain": [
       "     month_Febuary  month_January  month_November  month_October\n",
       "264            0.0            0.0             0.0            1.0\n",
       "269            0.0            0.0             0.0            1.0\n",
       "274            0.0            0.0             0.0            1.0\n",
       "276            0.0            0.0             0.0            1.0\n",
       "278            0.0            0.0             0.0            1.0"
      ]
     },
     "execution_count": 183,
     "metadata": {},
     "output_type": "execute_result"
    }
   ],
   "source": [
    "ohe = OneHotEncoder(sparse=False, drop='first')\n",
    "month_labels = pd.DataFrame(ohe.fit_transform(ecom_df[['month']]), index=ecom_df.index, columns=ohe.get_feature_names(ecom_df[[\"month\"]].columns))\n",
    "month_labels.head()"
   ]
  },
  {
   "cell_type": "code",
   "execution_count": 184,
   "metadata": {},
   "outputs": [
    {
     "data": {
      "text/html": [
       "<div>\n",
       "<style scoped>\n",
       "    .dataframe tbody tr th:only-of-type {\n",
       "        vertical-align: middle;\n",
       "    }\n",
       "\n",
       "    .dataframe tbody tr th {\n",
       "        vertical-align: top;\n",
       "    }\n",
       "\n",
       "    .dataframe thead th {\n",
       "        text-align: right;\n",
       "    }\n",
       "</style>\n",
       "<table border=\"1\" class=\"dataframe\">\n",
       "  <thead>\n",
       "    <tr style=\"text-align: right;\">\n",
       "      <th></th>\n",
       "      <th>when_Evening</th>\n",
       "      <th>when_Morning</th>\n",
       "      <th>when_Night</th>\n",
       "    </tr>\n",
       "  </thead>\n",
       "  <tbody>\n",
       "    <tr>\n",
       "      <th>264</th>\n",
       "      <td>0.0</td>\n",
       "      <td>0.0</td>\n",
       "      <td>1.0</td>\n",
       "    </tr>\n",
       "    <tr>\n",
       "      <th>269</th>\n",
       "      <td>0.0</td>\n",
       "      <td>0.0</td>\n",
       "      <td>1.0</td>\n",
       "    </tr>\n",
       "    <tr>\n",
       "      <th>274</th>\n",
       "      <td>0.0</td>\n",
       "      <td>0.0</td>\n",
       "      <td>1.0</td>\n",
       "    </tr>\n",
       "    <tr>\n",
       "      <th>276</th>\n",
       "      <td>0.0</td>\n",
       "      <td>0.0</td>\n",
       "      <td>1.0</td>\n",
       "    </tr>\n",
       "    <tr>\n",
       "      <th>278</th>\n",
       "      <td>0.0</td>\n",
       "      <td>0.0</td>\n",
       "      <td>1.0</td>\n",
       "    </tr>\n",
       "  </tbody>\n",
       "</table>\n",
       "</div>"
      ],
      "text/plain": [
       "     when_Evening  when_Morning  when_Night\n",
       "264           0.0           0.0         1.0\n",
       "269           0.0           0.0         1.0\n",
       "274           0.0           0.0         1.0\n",
       "276           0.0           0.0         1.0\n",
       "278           0.0           0.0         1.0"
      ]
     },
     "execution_count": 184,
     "metadata": {},
     "output_type": "execute_result"
    }
   ],
   "source": [
    "ohe = OneHotEncoder(sparse=False, drop='first')\n",
    "when_labels = pd.DataFrame(ohe.fit_transform(ecom_df[['when']]), index=ecom_df.index, columns=ohe.get_feature_names(ecom_df[[\"when\"]].columns))\n",
    "when_labels.head()"
   ]
  },
  {
   "cell_type": "code",
   "execution_count": 185,
   "metadata": {},
   "outputs": [
    {
     "data": {
      "text/html": [
       "<div>\n",
       "<style scoped>\n",
       "    .dataframe tbody tr th:only-of-type {\n",
       "        vertical-align: middle;\n",
       "    }\n",
       "\n",
       "    .dataframe tbody tr th {\n",
       "        vertical-align: top;\n",
       "    }\n",
       "\n",
       "    .dataframe thead th {\n",
       "        text-align: right;\n",
       "    }\n",
       "</style>\n",
       "<table border=\"1\" class=\"dataframe\">\n",
       "  <thead>\n",
       "    <tr style=\"text-align: right;\">\n",
       "      <th></th>\n",
       "      <th>event_time</th>\n",
       "      <th>event_type</th>\n",
       "      <th>product_id</th>\n",
       "      <th>category_code</th>\n",
       "      <th>brand</th>\n",
       "      <th>price</th>\n",
       "      <th>user_id</th>\n",
       "      <th>user_session</th>\n",
       "      <th>holiday</th>\n",
       "      <th>month</th>\n",
       "      <th>2020</th>\n",
       "      <th>hour</th>\n",
       "      <th>day</th>\n",
       "      <th>when</th>\n",
       "    </tr>\n",
       "  </thead>\n",
       "  <tbody>\n",
       "    <tr>\n",
       "      <th>264</th>\n",
       "      <td>2019-10-01 00:07:58+00:00</td>\n",
       "      <td>0</td>\n",
       "      <td>5767493</td>\n",
       "      <td>stationery.cartrige</td>\n",
       "      <td>italwax</td>\n",
       "      <td>2.14</td>\n",
       "      <td>514753614</td>\n",
       "      <td>e2fecb2d-22d0-df2c-c661-15da44b3ccf1</td>\n",
       "      <td>False</td>\n",
       "      <td>October</td>\n",
       "      <td>0</td>\n",
       "      <td>0</td>\n",
       "      <td>Tuesday</td>\n",
       "      <td>Night</td>\n",
       "    </tr>\n",
       "    <tr>\n",
       "      <th>269</th>\n",
       "      <td>2019-10-01 00:08:03+00:00</td>\n",
       "      <td>0</td>\n",
       "      <td>5759489</td>\n",
       "      <td>stationery.cartrige</td>\n",
       "      <td>italwax</td>\n",
       "      <td>2.14</td>\n",
       "      <td>514753614</td>\n",
       "      <td>e2fecb2d-22d0-df2c-c661-15da44b3ccf1</td>\n",
       "      <td>False</td>\n",
       "      <td>October</td>\n",
       "      <td>0</td>\n",
       "      <td>0</td>\n",
       "      <td>Tuesday</td>\n",
       "      <td>Night</td>\n",
       "    </tr>\n",
       "    <tr>\n",
       "      <th>274</th>\n",
       "      <td>2019-10-01 00:08:08+00:00</td>\n",
       "      <td>0</td>\n",
       "      <td>5657894</td>\n",
       "      <td>stationery.cartrige</td>\n",
       "      <td>unknown</td>\n",
       "      <td>2.06</td>\n",
       "      <td>514753614</td>\n",
       "      <td>e2fecb2d-22d0-df2c-c661-15da44b3ccf1</td>\n",
       "      <td>False</td>\n",
       "      <td>October</td>\n",
       "      <td>0</td>\n",
       "      <td>0</td>\n",
       "      <td>Tuesday</td>\n",
       "      <td>Night</td>\n",
       "    </tr>\n",
       "    <tr>\n",
       "      <th>276</th>\n",
       "      <td>2019-10-01 00:08:10+00:00</td>\n",
       "      <td>0</td>\n",
       "      <td>24336</td>\n",
       "      <td>stationery.cartrige</td>\n",
       "      <td>depilflax</td>\n",
       "      <td>3.02</td>\n",
       "      <td>514753614</td>\n",
       "      <td>e2fecb2d-22d0-df2c-c661-15da44b3ccf1</td>\n",
       "      <td>False</td>\n",
       "      <td>October</td>\n",
       "      <td>0</td>\n",
       "      <td>0</td>\n",
       "      <td>Tuesday</td>\n",
       "      <td>Night</td>\n",
       "    </tr>\n",
       "    <tr>\n",
       "      <th>278</th>\n",
       "      <td>2019-10-01 00:08:18+00:00</td>\n",
       "      <td>0</td>\n",
       "      <td>5775822</td>\n",
       "      <td>stationery.cartrige</td>\n",
       "      <td>italwax</td>\n",
       "      <td>2.14</td>\n",
       "      <td>514753614</td>\n",
       "      <td>e2fecb2d-22d0-df2c-c661-15da44b3ccf1</td>\n",
       "      <td>False</td>\n",
       "      <td>October</td>\n",
       "      <td>0</td>\n",
       "      <td>0</td>\n",
       "      <td>Tuesday</td>\n",
       "      <td>Night</td>\n",
       "    </tr>\n",
       "  </tbody>\n",
       "</table>\n",
       "</div>"
      ],
      "text/plain": [
       "                   event_time  event_type  product_id        category_code  \\\n",
       "264 2019-10-01 00:07:58+00:00           0     5767493  stationery.cartrige   \n",
       "269 2019-10-01 00:08:03+00:00           0     5759489  stationery.cartrige   \n",
       "274 2019-10-01 00:08:08+00:00           0     5657894  stationery.cartrige   \n",
       "276 2019-10-01 00:08:10+00:00           0       24336  stationery.cartrige   \n",
       "278 2019-10-01 00:08:18+00:00           0     5775822  stationery.cartrige   \n",
       "\n",
       "         brand  price    user_id                          user_session  \\\n",
       "264    italwax   2.14  514753614  e2fecb2d-22d0-df2c-c661-15da44b3ccf1   \n",
       "269    italwax   2.14  514753614  e2fecb2d-22d0-df2c-c661-15da44b3ccf1   \n",
       "274    unknown   2.06  514753614  e2fecb2d-22d0-df2c-c661-15da44b3ccf1   \n",
       "276  depilflax   3.02  514753614  e2fecb2d-22d0-df2c-c661-15da44b3ccf1   \n",
       "278    italwax   2.14  514753614  e2fecb2d-22d0-df2c-c661-15da44b3ccf1   \n",
       "\n",
       "     holiday    month  2020  hour      day   when  \n",
       "264    False  October     0     0  Tuesday  Night  \n",
       "269    False  October     0     0  Tuesday  Night  \n",
       "274    False  October     0     0  Tuesday  Night  \n",
       "276    False  October     0     0  Tuesday  Night  \n",
       "278    False  October     0     0  Tuesday  Night  "
      ]
     },
     "execution_count": 185,
     "metadata": {},
     "output_type": "execute_result"
    }
   ],
   "source": [
    "print(ecom_df.shape)"
   ]
  },
  {
   "cell_type": "code",
   "execution_count": 186,
   "metadata": {},
   "outputs": [
    {
     "data": {
      "text/html": [
       "<div>\n",
       "<style scoped>\n",
       "    .dataframe tbody tr th:only-of-type {\n",
       "        vertical-align: middle;\n",
       "    }\n",
       "\n",
       "    .dataframe tbody tr th {\n",
       "        vertical-align: top;\n",
       "    }\n",
       "\n",
       "    .dataframe thead th {\n",
       "        text-align: right;\n",
       "    }\n",
       "</style>\n",
       "<table border=\"1\" class=\"dataframe\">\n",
       "  <thead>\n",
       "    <tr style=\"text-align: right;\">\n",
       "      <th></th>\n",
       "      <th>event_time</th>\n",
       "      <th>event_type</th>\n",
       "      <th>product_id</th>\n",
       "      <th>category_code</th>\n",
       "      <th>brand</th>\n",
       "      <th>price</th>\n",
       "      <th>user_id</th>\n",
       "      <th>user_session</th>\n",
       "      <th>holiday</th>\n",
       "      <th>month</th>\n",
       "      <th>...</th>\n",
       "      <th>day_Thursday</th>\n",
       "      <th>day_Tuesday</th>\n",
       "      <th>day_Wednesday</th>\n",
       "      <th>month_Febuary</th>\n",
       "      <th>month_January</th>\n",
       "      <th>month_November</th>\n",
       "      <th>month_October</th>\n",
       "      <th>when_Evening</th>\n",
       "      <th>when_Morning</th>\n",
       "      <th>when_Night</th>\n",
       "    </tr>\n",
       "  </thead>\n",
       "  <tbody>\n",
       "    <tr>\n",
       "      <th>66</th>\n",
       "      <td>2019-11-01 00:04:33+00:00</td>\n",
       "      <td>1</td>\n",
       "      <td>5766980</td>\n",
       "      <td>stationery.cartrige</td>\n",
       "      <td>italwax</td>\n",
       "      <td>1.98</td>\n",
       "      <td>564451209</td>\n",
       "      <td>861ab2f1-b2e5-886f-a93b-5b067eff081f</td>\n",
       "      <td>False</td>\n",
       "      <td>November</td>\n",
       "      <td>...</td>\n",
       "      <td>0.0</td>\n",
       "      <td>0.0</td>\n",
       "      <td>0.0</td>\n",
       "      <td>0.0</td>\n",
       "      <td>0.0</td>\n",
       "      <td>1.0</td>\n",
       "      <td>0.0</td>\n",
       "      <td>0.0</td>\n",
       "      <td>0.0</td>\n",
       "      <td>1.0</td>\n",
       "    </tr>\n",
       "    <tr>\n",
       "      <th>67</th>\n",
       "      <td>2019-11-01 00:04:33+00:00</td>\n",
       "      <td>1</td>\n",
       "      <td>5767494</td>\n",
       "      <td>stationery.cartrige</td>\n",
       "      <td>italwax</td>\n",
       "      <td>2.14</td>\n",
       "      <td>564451209</td>\n",
       "      <td>861ab2f1-b2e5-886f-a93b-5b067eff081f</td>\n",
       "      <td>False</td>\n",
       "      <td>November</td>\n",
       "      <td>...</td>\n",
       "      <td>0.0</td>\n",
       "      <td>0.0</td>\n",
       "      <td>0.0</td>\n",
       "      <td>0.0</td>\n",
       "      <td>0.0</td>\n",
       "      <td>1.0</td>\n",
       "      <td>0.0</td>\n",
       "      <td>0.0</td>\n",
       "      <td>0.0</td>\n",
       "      <td>1.0</td>\n",
       "    </tr>\n",
       "    <tr>\n",
       "      <th>68</th>\n",
       "      <td>2019-11-01 00:04:33+00:00</td>\n",
       "      <td>1</td>\n",
       "      <td>5775813</td>\n",
       "      <td>stationery.cartrige</td>\n",
       "      <td>italwax</td>\n",
       "      <td>1.98</td>\n",
       "      <td>564451209</td>\n",
       "      <td>861ab2f1-b2e5-886f-a93b-5b067eff081f</td>\n",
       "      <td>False</td>\n",
       "      <td>November</td>\n",
       "      <td>...</td>\n",
       "      <td>0.0</td>\n",
       "      <td>0.0</td>\n",
       "      <td>0.0</td>\n",
       "      <td>0.0</td>\n",
       "      <td>0.0</td>\n",
       "      <td>1.0</td>\n",
       "      <td>0.0</td>\n",
       "      <td>0.0</td>\n",
       "      <td>0.0</td>\n",
       "      <td>1.0</td>\n",
       "    </tr>\n",
       "    <tr>\n",
       "      <th>69</th>\n",
       "      <td>2019-11-01 00:04:33+00:00</td>\n",
       "      <td>1</td>\n",
       "      <td>5775814</td>\n",
       "      <td>stationery.cartrige</td>\n",
       "      <td>italwax</td>\n",
       "      <td>1.98</td>\n",
       "      <td>564451209</td>\n",
       "      <td>861ab2f1-b2e5-886f-a93b-5b067eff081f</td>\n",
       "      <td>False</td>\n",
       "      <td>November</td>\n",
       "      <td>...</td>\n",
       "      <td>0.0</td>\n",
       "      <td>0.0</td>\n",
       "      <td>0.0</td>\n",
       "      <td>0.0</td>\n",
       "      <td>0.0</td>\n",
       "      <td>1.0</td>\n",
       "      <td>0.0</td>\n",
       "      <td>0.0</td>\n",
       "      <td>0.0</td>\n",
       "      <td>1.0</td>\n",
       "    </tr>\n",
       "    <tr>\n",
       "      <th>264</th>\n",
       "      <td>2019-10-01 00:07:58+00:00</td>\n",
       "      <td>0</td>\n",
       "      <td>5767493</td>\n",
       "      <td>stationery.cartrige</td>\n",
       "      <td>italwax</td>\n",
       "      <td>2.14</td>\n",
       "      <td>514753614</td>\n",
       "      <td>e2fecb2d-22d0-df2c-c661-15da44b3ccf1</td>\n",
       "      <td>False</td>\n",
       "      <td>October</td>\n",
       "      <td>...</td>\n",
       "      <td>0.0</td>\n",
       "      <td>1.0</td>\n",
       "      <td>0.0</td>\n",
       "      <td>0.0</td>\n",
       "      <td>0.0</td>\n",
       "      <td>0.0</td>\n",
       "      <td>1.0</td>\n",
       "      <td>0.0</td>\n",
       "      <td>0.0</td>\n",
       "      <td>1.0</td>\n",
       "    </tr>\n",
       "  </tbody>\n",
       "</table>\n",
       "<p>5 rows × 555 columns</p>\n",
       "</div>"
      ],
      "text/plain": [
       "                   event_time  event_type  product_id        category_code  \\\n",
       "66  2019-11-01 00:04:33+00:00           1     5766980  stationery.cartrige   \n",
       "67  2019-11-01 00:04:33+00:00           1     5767494  stationery.cartrige   \n",
       "68  2019-11-01 00:04:33+00:00           1     5775813  stationery.cartrige   \n",
       "69  2019-11-01 00:04:33+00:00           1     5775814  stationery.cartrige   \n",
       "264 2019-10-01 00:07:58+00:00           0     5767493  stationery.cartrige   \n",
       "\n",
       "       brand  price    user_id                          user_session  holiday  \\\n",
       "66   italwax   1.98  564451209  861ab2f1-b2e5-886f-a93b-5b067eff081f    False   \n",
       "67   italwax   2.14  564451209  861ab2f1-b2e5-886f-a93b-5b067eff081f    False   \n",
       "68   italwax   1.98  564451209  861ab2f1-b2e5-886f-a93b-5b067eff081f    False   \n",
       "69   italwax   1.98  564451209  861ab2f1-b2e5-886f-a93b-5b067eff081f    False   \n",
       "264  italwax   2.14  514753614  e2fecb2d-22d0-df2c-c661-15da44b3ccf1    False   \n",
       "\n",
       "        month  ...  day_Thursday  day_Tuesday day_Wednesday month_Febuary  \\\n",
       "66   November  ...           0.0          0.0           0.0           0.0   \n",
       "67   November  ...           0.0          0.0           0.0           0.0   \n",
       "68   November  ...           0.0          0.0           0.0           0.0   \n",
       "69   November  ...           0.0          0.0           0.0           0.0   \n",
       "264   October  ...           0.0          1.0           0.0           0.0   \n",
       "\n",
       "     month_January  month_November  month_October  when_Evening  when_Morning  \\\n",
       "66             0.0             1.0            0.0           0.0           0.0   \n",
       "67             0.0             1.0            0.0           0.0           0.0   \n",
       "68             0.0             1.0            0.0           0.0           0.0   \n",
       "69             0.0             1.0            0.0           0.0           0.0   \n",
       "264            0.0             0.0            1.0           0.0           0.0   \n",
       "\n",
       "     when_Night  \n",
       "66          1.0  \n",
       "67          1.0  \n",
       "68          1.0  \n",
       "69          1.0  \n",
       "264         1.0  \n",
       "\n",
       "[5 rows x 555 columns]"
      ]
     },
     "execution_count": 186,
     "metadata": {},
     "output_type": "execute_result"
    }
   ],
   "source": [
    "#Join our Labeled Columns to our main DataFrame\n",
    "#ecom_df = ecom_df.join(etype_labels)\n",
    "ecom_df = ecom_df.join(brand_labels)\n",
    "ecom_df = ecom_df.join(productid_labels)\n",
    "ecom_df = ecom_df.join(catco_labels)\n",
    "ecom_df = ecom_df.join(day_labels)\n",
    "ecom_df = ecom_df.join(month_labels)\n",
    "ecom_df = ecom_df.join(when_labels)                        \n",
    "ecom_df.head()"
   ]
  },
  {
   "cell_type": "code",
   "execution_count": 188,
   "metadata": {},
   "outputs": [
    {
     "name": "stdout",
     "output_type": "stream",
     "text": [
      "(93421, 555)\n"
     ]
    }
   ],
   "source": [
    "print(ecom_df.shape)"
   ]
  },
  {
   "cell_type": "markdown",
   "metadata": {},
   "source": [
    "# Preprocessing Data"
   ]
  },
  {
   "cell_type": "markdown",
   "metadata": {},
   "source": [
    "### Train Test Split"
   ]
  },
  {
   "cell_type": "code",
   "execution_count": 140,
   "metadata": {},
   "outputs": [],
   "source": [
    "X = ecom_df.drop([\"month\", \"hour\", \"day\", \"when\", \"user_id\", \"product_id\", \"category_code\", \"event_time\", \"event_type\", \"brand\", \"user_session\"], axis=1)\n",
    "y = ecom_df.event_type"
   ]
  },
  {
   "cell_type": "code",
   "execution_count": 154,
   "metadata": {},
   "outputs": [
    {
     "data": {
      "text/plain": [
       "(93421, 555)"
      ]
     },
     "execution_count": 154,
     "metadata": {},
     "output_type": "execute_result"
    }
   ],
   "source": [
    "ecom_df.shape"
   ]
  },
  {
   "cell_type": "code",
   "execution_count": 153,
   "metadata": {},
   "outputs": [
    {
     "data": {
      "text/plain": [
       "0    65903\n",
       "1    27518\n",
       "Name: event_type, dtype: int64"
      ]
     },
     "execution_count": 153,
     "metadata": {},
     "output_type": "execute_result"
    }
   ],
   "source": [
    "y.value_counts()"
   ]
  },
  {
   "cell_type": "code",
   "execution_count": 94,
   "metadata": {},
   "outputs": [],
   "source": [
    "X_train, X_test, y_train, y_test = train_test_split(X, y, test_size=0.2, random_state=42)"
   ]
  },
  {
   "cell_type": "markdown",
   "metadata": {},
   "source": [
    "### Standard Scalar"
   ]
  },
  {
   "cell_type": "code",
   "execution_count": 95,
   "metadata": {},
   "outputs": [],
   "source": [
    "ss = StandardScaler()\n",
    "X_train_ss = pd.DataFrame(ss.fit_transform(X_train), index=X_train.index, columns=X_train.columns)  "
   ]
  },
  {
   "cell_type": "code",
   "execution_count": 96,
   "metadata": {},
   "outputs": [],
   "source": [
    "ss = StandardScaler()\n",
    "X_test_ss = pd.DataFrame(ss.fit_transform(X_test), index=X_test.index, columns=X_test.columns)"
   ]
  },
  {
   "cell_type": "markdown",
   "metadata": {},
   "source": [
    "### SMOTE"
   ]
  },
  {
   "cell_type": "code",
   "execution_count": 141,
   "metadata": {},
   "outputs": [],
   "source": [
    "sm = SMOTE(random_state=42)\n",
    "X_tr_sm, y_tr_sm = sm.fit_resample(X_train, y_train)"
   ]
  },
  {
   "cell_type": "code",
   "execution_count": 151,
   "metadata": {},
   "outputs": [
    {
     "data": {
      "text/plain": [
       "(105456, 544)"
      ]
     },
     "execution_count": 151,
     "metadata": {},
     "output_type": "execute_result"
    }
   ],
   "source": [
    "X_tr_sm.shape"
   ]
  },
  {
   "cell_type": "code",
   "execution_count": 152,
   "metadata": {},
   "outputs": [
    {
     "data": {
      "text/plain": [
       "(105456,)"
      ]
     },
     "execution_count": 152,
     "metadata": {},
     "output_type": "execute_result"
    }
   ],
   "source": [
    "y_tr_sm.shape"
   ]
  },
  {
   "cell_type": "markdown",
   "metadata": {},
   "source": [
    "# Models"
   ]
  },
  {
   "cell_type": "markdown",
   "metadata": {},
   "source": [
    "### Logistic Regression"
   ]
  },
  {
   "cell_type": "code",
   "execution_count": null,
   "metadata": {},
   "outputs": [],
   "source": []
  },
  {
   "cell_type": "markdown",
   "metadata": {},
   "source": [
    "### LGBMClassifier"
   ]
  },
  {
   "cell_type": "code",
   "execution_count": 37,
   "metadata": {},
   "outputs": [],
   "source": [
    "import lightgbm as lgb"
   ]
  },
  {
   "cell_type": "code",
   "execution_count": 38,
   "metadata": {},
   "outputs": [
    {
     "name": "stdout",
     "output_type": "stream",
     "text": [
      "              precision    recall  f1-score   support\n",
      "\n",
      "           0       0.74      0.96      0.83     13175\n",
      "           1       0.65      0.19      0.30      5510\n",
      "\n",
      "    accuracy                           0.73     18685\n",
      "   macro avg       0.69      0.57      0.57     18685\n",
      "weighted avg       0.71      0.73      0.68     18685\n",
      "\n"
     ]
    }
   ],
   "source": [
    "# Instantiate XGBClassifier\n",
    "lgbm = lgb.LGBMClassifier()\n",
    "\n",
    "# Fit XGBClassifier\n",
    "lgbm.fit(X_train_ss,  y_train)\n",
    "\n",
    "# Predict on training and test sets\n",
    "training_preds_lgbm = lgbm.predict(X_train_ss)\n",
    "test_preds_lgbm = lgbm.predict(X_test_ss)\n",
    "\n",
    "# Printing the Classification Report to see how our model performed\n",
    "first_results=classification_report(y_test, test_preds_lgbm)\n",
    "print(first_results)"
   ]
  },
  {
   "cell_type": "code",
   "execution_count": 39,
   "metadata": {},
   "outputs": [
    {
     "name": "stdout",
     "output_type": "stream",
     "text": [
      "              precision    recall  f1-score   support\n",
      "\n",
      "           0       0.75      0.99      0.86     13175\n",
      "           1       0.92      0.22      0.36      5510\n",
      "\n",
      "    accuracy                           0.77     18685\n",
      "   macro avg       0.84      0.61      0.61     18685\n",
      "weighted avg       0.80      0.77      0.71     18685\n",
      "\n"
     ]
    }
   ],
   "source": [
    "# Instantiate XGBClassifier\n",
    "lgbm = lgb.LGBMClassifier()\n",
    "\n",
    "# Fit XGBClassifier\n",
    "lgbm.fit(X_train,  y_train)\n",
    "\n",
    "# Predict on training and test sets\n",
    "training_preds_lgbm = lgbm.predict(X_train)\n",
    "test_preds_lgbm = lgbm.predict(X_test)\n",
    "\n",
    "# Printing the Classification Report to see how our model performed\n",
    "first_results=classification_report(y_test, test_preds_lgbm)\n",
    "print(first_results)"
   ]
  },
  {
   "cell_type": "code",
   "execution_count": null,
   "metadata": {},
   "outputs": [],
   "source": [
    "# Instantiate XGBClassifier\n",
    "lgbm = lgb.LGBMClassifier()\n",
    "\n",
    "# Fit XGBClassifier\n",
    "lgbm.fit(X_tr_sm,  y_tr_sm)\n",
    "\n",
    "# Predict on training and test sets\n",
    "training_preds_lgbm = lgbm.predict(X_tr_sm)\n",
    "test_preds_lgbm = lgbm.predict(X_test_ss)\n",
    "\n",
    "# Printing the Classification Report to see how our model performed\n",
    "first_results=classification_report(y_test, test_preds_lgbm)\n",
    "print(first_results)"
   ]
  },
  {
   "cell_type": "markdown",
   "metadata": {},
   "source": [
    "### RandomForest"
   ]
  },
  {
   "cell_type": "code",
   "execution_count": 64,
   "metadata": {},
   "outputs": [
    {
     "name": "stdout",
     "output_type": "stream",
     "text": [
      "              precision    recall  f1-score   support\n",
      "\n",
      "           0       0.82      0.90      0.86     13175\n",
      "           1       0.69      0.52      0.59      5510\n",
      "\n",
      "    accuracy                           0.79     18685\n",
      "   macro avg       0.75      0.71      0.73     18685\n",
      "weighted avg       0.78      0.79      0.78     18685\n",
      "\n"
     ]
    }
   ],
   "source": [
    "rf = RandomForestClassifier()\n",
    "\n",
    "rf.fit(X_train, y_train)\n",
    "\n",
    "# Predict on training and test sets\n",
    "training_preds_rf = rf.predict(X_train)\n",
    "test_preds_rf = rf.predict(X_test)\n",
    "\n",
    "# Printing the Classification Report to see how our model performed\n",
    "first_results=classification_report(y_test, test_preds_rf)\n",
    "print(first_results)"
   ]
  },
  {
   "cell_type": "code",
   "execution_count": 41,
   "metadata": {},
   "outputs": [
    {
     "name": "stdout",
     "output_type": "stream",
     "text": [
      "              precision    recall  f1-score   support\n",
      "\n",
      "           0       0.84      0.82      0.83     13175\n",
      "           1       0.59      0.63      0.61      5510\n",
      "\n",
      "    accuracy                           0.76     18685\n",
      "   macro avg       0.71      0.72      0.72     18685\n",
      "weighted avg       0.77      0.76      0.76     18685\n",
      "\n"
     ]
    }
   ],
   "source": [
    "rf2 = RandomForestClassifier(class_weight='balanced')\n",
    "\n",
    "rf2.fit(X_train, y_train)\n",
    "\n",
    "# Predict on training and test sets\n",
    "training_preds_rf2 = rf2.predict(X_train)\n",
    "test_preds_rf2 = rf2.predict(X_test)\n",
    "\n",
    "# Printing the Classification Report to see how our model performed\n",
    "first_results=classification_report(y_test, test_preds_rf2)\n",
    "print(first_results)"
   ]
  },
  {
   "cell_type": "markdown",
   "metadata": {},
   "source": [
    "### DecisionTreeClassifier"
   ]
  },
  {
   "cell_type": "code",
   "execution_count": 44,
   "metadata": {},
   "outputs": [
    {
     "name": "stdout",
     "output_type": "stream",
     "text": [
      "              precision    recall  f1-score   support\n",
      "\n",
      "           0       0.82      0.91      0.86     13175\n",
      "           1       0.71      0.52      0.60      5510\n",
      "\n",
      "    accuracy                           0.79     18685\n",
      "   macro avg       0.76      0.71      0.73     18685\n",
      "weighted avg       0.79      0.79      0.78     18685\n",
      "\n"
     ]
    }
   ],
   "source": [
    "tree_clf = DecisionTreeClassifier() \n",
    "\n",
    "tree_clf.fit(X_train, y_train)\n",
    "\n",
    "# Predict on training and test sets\n",
    "training_preds_tclf = tree_clf.predict(X_train)\n",
    "test_preds_tclf = tree_clf.predict(X_test)\n",
    "\n",
    "# Printing the Classification Report to see how our model performed\n",
    "first_results=classification_report(y_test, test_preds_tclf)\n",
    "print(first_results)"
   ]
  },
  {
   "cell_type": "code",
   "execution_count": 45,
   "metadata": {},
   "outputs": [
    {
     "name": "stdout",
     "output_type": "stream",
     "text": [
      "              precision    recall  f1-score   support\n",
      "\n",
      "           0       0.85      0.76      0.81     13175\n",
      "           1       0.55      0.69      0.61      5510\n",
      "\n",
      "    accuracy                           0.74     18685\n",
      "   macro avg       0.70      0.73      0.71     18685\n",
      "weighted avg       0.76      0.74      0.75     18685\n",
      "\n"
     ]
    }
   ],
   "source": [
    "tree_clf2 = DecisionTreeClassifier(class_weight='balanced') \n",
    "\n",
    "tree_clf2.fit(X_train, y_train)\n",
    "\n",
    "# Predict on training and test sets\n",
    "training_preds_tclf2 = tree_clf2.predict(X_train)\n",
    "test_preds_tclf2 = tree_clf2.predict(X_test)\n",
    "\n",
    "# Printing the Classification Report to see how our model performed\n",
    "first_results=classification_report(y_test, test_preds_tclf2)\n",
    "print(first_results)"
   ]
  },
  {
   "cell_type": "code",
   "execution_count": 168,
   "metadata": {},
   "outputs": [
    {
     "data": {
      "text/plain": [
       "3720468    1\n",
       "3839663    0\n",
       "2110095    0\n",
       "1168201    0\n",
       "899787     1\n",
       "          ..\n",
       "1052252    1\n",
       "3078970    0\n",
       "622452     0\n",
       "2472169    0\n",
       "1774235    0\n",
       "Name: event_type, Length: 18685, dtype: int64"
      ]
     },
     "execution_count": 168,
     "metadata": {},
     "output_type": "execute_result"
    }
   ],
   "source": [
    "y_test"
   ]
  },
  {
   "cell_type": "markdown",
   "metadata": {},
   "source": [
    "# Hyperparamter Tuning"
   ]
  },
  {
   "cell_type": "code",
   "execution_count": 65,
   "metadata": {},
   "outputs": [],
   "source": [
    "param_grid = {\n",
    "    'bootstrap': [True],\n",
    "    'max_depth': [80, 95, 110, 115, 120],\n",
    "    'max_features': [10, 30, 50],\n",
    "    'criterion': ['gini', 'entropy'],\n",
    "    'n_estimators': [100, 200, 300, 400]}"
   ]
  },
  {
   "cell_type": "code",
   "execution_count": 80,
   "metadata": {},
   "outputs": [],
   "source": [
    "param_grid = {\n",
    "    'bootstrap': [True],\n",
    "    'max_depth': [110, 115, 120],\n",
    "    'max_features': [7],\n",
    "    'criterion': ['gini'],\n",
    "    'n_estimators': [400]}"
   ]
  },
  {
   "cell_type": "code",
   "execution_count": 89,
   "metadata": {},
   "outputs": [],
   "source": [
    "param_grid = {\n",
    "    'bootstrap': [True],\n",
    "    'max_depth': [115],\n",
    "    'max_features': [30, 50],\n",
    "    'criterion': ['gini'],\n",
    "    'n_estimators': [400]}"
   ]
  },
  {
   "cell_type": "code",
   "execution_count": 90,
   "metadata": {},
   "outputs": [
    {
     "name": "stdout",
     "output_type": "stream",
     "text": [
      "Fitting 3 folds for each of 2 candidates, totalling 6 fits\n"
     ]
    },
    {
     "name": "stderr",
     "output_type": "stream",
     "text": [
      "[Parallel(n_jobs=-1)]: Using backend LokyBackend with 4 concurrent workers.\n",
      "[Parallel(n_jobs=-1)]: Done   3 out of   6 | elapsed: 14.0min remaining: 14.0min\n",
      "[Parallel(n_jobs=-1)]: Done   6 out of   6 | elapsed: 21.3min finished\n"
     ]
    },
    {
     "data": {
      "text/plain": [
       "GridSearchCV(estimator=RandomForestClassifier(),\n",
       "             param_grid={'bootstrap': [True], 'criterion': ['gini'],\n",
       "                         'max_depth': [115], 'max_features': [30, 50],\n",
       "                         'n_estimators': [400]})"
      ]
     },
     "execution_count": 90,
     "metadata": {},
     "output_type": "execute_result"
    }
   ],
   "source": [
    "# Instantiate the grid search model\n",
    "clf = GridSearchCV(estimator = rf, param_grid = param_grid, \n",
    "                          cv = 3, n_jobs = -1, verbose = 2)\n",
    "clf.fit(X_train, y_train)\n",
    "GridSearchCV(estimator=rf,\n",
    "             param_grid=param_grid)"
   ]
  },
  {
   "cell_type": "code",
   "execution_count": 91,
   "metadata": {},
   "outputs": [],
   "source": [
    "def evaluate(model, test_features, test_labels):\n",
    "    predictions = model.predict(test_features)\n",
    "    errors = abs(predictions - test_labels)\n",
    "    mape = 100 * np.mean(errors / test_labels)\n",
    "    accuracy = 100 - mape\n",
    "    print('Model Performance')\n",
    "    print('Average Error: {:0.4f} degrees.'.format(np.mean(errors)))\n",
    "    print('Accuracy = {:0.2f}%.'.format(accuracy))\n",
    "    \n",
    "    return accuracy"
   ]
  },
  {
   "cell_type": "code",
   "execution_count": 92,
   "metadata": {},
   "outputs": [
    {
     "name": "stdout",
     "output_type": "stream",
     "text": [
      "{'bootstrap': True, 'criterion': 'gini', 'max_depth': 115, 'max_features': 50, 'n_estimators': 400}\n",
      "Model Performance\n",
      "Average Error: 0.2055 degrees.\n",
      "Accuracy = -inf%.\n",
      "-inf\n"
     ]
    }
   ],
   "source": [
    "# Fit the grid search to the data\n",
    "print(clf.best_params_)\n",
    "best_grid = clf.best_estimator_\n",
    "grid_accuracy = evaluate(best_grid, X_test, y_test)\n",
    "print(grid_accuracy)"
   ]
  },
  {
   "cell_type": "markdown",
   "metadata": {},
   "source": [
    "# Best Model"
   ]
  },
  {
   "cell_type": "code",
   "execution_count": 93,
   "metadata": {},
   "outputs": [
    {
     "name": "stdout",
     "output_type": "stream",
     "text": [
      "              precision    recall  f1-score   support\n",
      "\n",
      "           0       0.84      0.81      0.83     13175\n",
      "           1       0.59      0.63      0.61      5510\n",
      "\n",
      "    accuracy                           0.76     18685\n",
      "   macro avg       0.71      0.72      0.72     18685\n",
      "weighted avg       0.77      0.76      0.76     18685\n",
      "\n"
     ]
    }
   ],
   "source": [
    "rf3 = RandomForestClassifier(class_weight='balanced', bootstrap= True, criterion= 'gini', max_depth= 115, max_features= 50, n_estimators= 400)\n",
    "\n",
    "rf3.fit(X_train, y_train)\n",
    "\n",
    "# Predict on training and test sets\n",
    "training_preds_rf3 = rf3.predict(X_train)\n",
    "test_preds_rf3 = rf3.predict(X_test)\n",
    "\n",
    "# Printing the Classification Report to see how our model performed\n",
    "first_results=classification_report(y_test, test_preds_rf3)\n",
    "print(first_results)"
   ]
  },
  {
   "cell_type": "code",
   "execution_count": 103,
   "metadata": {},
   "outputs": [
    {
     "name": "stdout",
     "output_type": "stream",
     "text": [
      "              precision    recall  f1-score   support\n",
      "\n",
      "           0       0.81      0.87      0.84     13175\n",
      "           1       0.62      0.50      0.56      5510\n",
      "\n",
      "    accuracy                           0.76     18685\n",
      "   macro avg       0.72      0.69      0.70     18685\n",
      "weighted avg       0.75      0.76      0.76     18685\n",
      "\n"
     ]
    }
   ],
   "source": [
    "rf3 = RandomForestClassifier(class_weight='balanced', bootstrap= True, criterion= 'gini', max_depth= 115, max_features= 50, n_estimators= 400)\n",
    "\n",
    "rf3.fit(X_train_ss, y_train)\n",
    "\n",
    "# Predict on training and test sets\n",
    "training_preds_rf3 = rf3.predict(X_train_ss)\n",
    "test_preds_rf3 = rf3.predict(X_test_ss)\n",
    "\n",
    "# Printing the Classification Report to see how our model performed\n",
    "first_results=classification_report(y_test, test_preds_rf3)\n",
    "print(first_results)"
   ]
  },
  {
   "cell_type": "code",
   "execution_count": 142,
   "metadata": {},
   "outputs": [
    {
     "name": "stdout",
     "output_type": "stream",
     "text": [
      "              precision    recall  f1-score   support\n",
      "\n",
      "           0       0.84      0.84      0.84     13175\n",
      "           1       0.61      0.62      0.62      5510\n",
      "\n",
      "    accuracy                           0.77     18685\n",
      "   macro avg       0.73      0.73      0.73     18685\n",
      "weighted avg       0.77      0.77      0.77     18685\n",
      "\n"
     ]
    }
   ],
   "source": [
    "rf3 = RandomForestClassifier(class_weight='balanced', bootstrap= True, criterion= 'gini', max_depth= 115, max_features= 50, n_estimators= 400)\n",
    "\n",
    "rf3.fit(X_tr_sm, y_tr_sm)\n",
    "\n",
    "# Predict on training and test sets\n",
    "training_preds_rf3 = rf3.predict(X_tr_sm)\n",
    "test_preds_rf3 = rf3.predict(X_test)\n",
    "\n",
    "# Printing the Classification Report to see how our model performed\n",
    "first_results=classification_report(y_test, test_preds_rf3)\n",
    "print(first_results)"
   ]
  },
  {
   "cell_type": "markdown",
   "metadata": {},
   "source": [
    "# test"
   ]
  },
  {
   "cell_type": "code",
   "execution_count": 144,
   "metadata": {},
   "outputs": [
    {
     "name": "stdout",
     "output_type": "stream",
     "text": [
      "              precision    recall  f1-score   support\n",
      "\n",
      "           0       0.84      0.84      0.84     13175\n",
      "           1       0.61      0.62      0.62      5510\n",
      "\n",
      "    accuracy                           0.77     18685\n",
      "   macro avg       0.73      0.73      0.73     18685\n",
      "weighted avg       0.77      0.77      0.77     18685\n",
      "\n"
     ]
    }
   ],
   "source": [
    "rf3 = RandomForestClassifier(class_weight='balanced', bootstrap= True, criterion= 'gini', max_depth= 115, max_features= 100, n_estimators= 400)\n",
    "\n",
    "rf3.fit(X_tr_sm, y_tr_sm)\n",
    "\n",
    "# Predict on training and test sets\n",
    "training_preds_rf3 = rf3.predict(X_tr_sm)\n",
    "test_preds_rf3 = rf3.predict(X_test)\n",
    "\n",
    "# Printing the Classification Report to see how our model performed\n",
    "first_results=classification_report(y_test, test_preds_rf3)\n",
    "print(first_results)"
   ]
  },
  {
   "cell_type": "code",
   "execution_count": 147,
   "metadata": {},
   "outputs": [
    {
     "name": "stdout",
     "output_type": "stream",
     "text": [
      "              precision    recall  f1-score   support\n",
      "\n",
      "           0       0.84      0.84      0.84     13175\n",
      "           1       0.62      0.62      0.62      5510\n",
      "\n",
      "    accuracy                           0.77     18685\n",
      "   macro avg       0.73      0.73      0.73     18685\n",
      "weighted avg       0.77      0.77      0.77     18685\n",
      "\n"
     ]
    }
   ],
   "source": [
    "rf3 = RandomForestClassifier(bootstrap= True, criterion= 'gini', max_depth= 115, max_features= 100, n_estimators= 400)\n",
    "\n",
    "rf3.fit(X_tr_sm, y_tr_sm)\n",
    "\n",
    "# Predict on training and test sets\n",
    "training_preds_rf3 = rf3.predict(X_tr_sm)\n",
    "test_preds_rf3 = rf3.predict(X_test)\n",
    "\n",
    "# Printing the Classification Report to see how our model performed\n",
    "first_results=classification_report(y_test, test_preds_rf3)\n",
    "print(first_results)"
   ]
  },
  {
   "cell_type": "code",
   "execution_count": 145,
   "metadata": {},
   "outputs": [
    {
     "name": "stdout",
     "output_type": "stream",
     "text": [
      "              precision    recall  f1-score   support\n",
      "\n",
      "           0       0.84      0.81      0.83     13175\n",
      "           1       0.59      0.64      0.61      5510\n",
      "\n",
      "    accuracy                           0.76     18685\n",
      "   macro avg       0.72      0.73      0.72     18685\n",
      "weighted avg       0.77      0.76      0.77     18685\n",
      "\n"
     ]
    }
   ],
   "source": [
    "\n",
    "rf3 = RandomForestClassifier(class_weight='balanced', criterion= 'gini', max_depth= 115, max_features= 100, n_estimators= 400)\n",
    "\n",
    "rf3.fit(X_train, y_train)\n",
    "\n",
    "# Predict on training and test sets\n",
    "training_preds_rf3 = rf3.predict(X_train)\n",
    "test_preds_rf3 = rf3.predict(X_test)\n",
    "\n",
    "# Printing the Classification Report to see how our model performed\n",
    "first_results=classification_report(y_test, test_preds_rf3)\n",
    "print(first_results)"
   ]
  },
  {
   "cell_type": "code",
   "execution_count": 146,
   "metadata": {},
   "outputs": [
    {
     "data": {
      "text/plain": [
       "1    52728\n",
       "0    52728\n",
       "Name: event_type, dtype: int64"
      ]
     },
     "execution_count": 146,
     "metadata": {},
     "output_type": "execute_result"
    }
   ],
   "source": [
    "y_tr_sm.value_counts()"
   ]
  },
  {
   "cell_type": "markdown",
   "metadata": {},
   "source": [
    "# Visuals"
   ]
  },
  {
   "cell_type": "code",
   "execution_count": 176,
   "metadata": {},
   "outputs": [],
   "source": [
    "#confusion matrix\n",
    "plot_confusion_matrix(estimator=rf2, y_true=y_train, X=X_train)\n",
    "plt.savefig(\"conufsion_matrix_train\")"
   ]
  },
  {
   "cell_type": "markdown",
   "metadata": {},
   "source": [
    "### Graph 1"
   ]
  },
  {
   "cell_type": "code",
   "execution_count": 2,
   "metadata": {},
   "outputs": [
    {
     "ename": "NameError",
     "evalue": "name 'ecom_df' is not defined",
     "output_type": "error",
     "traceback": [
      "\u001b[0;31m---------------------------------------------------------------------------\u001b[0m",
      "\u001b[0;31mNameError\u001b[0m                                 Traceback (most recent call last)",
      "\u001b[0;32m<ipython-input-2-938074f7dc37>\u001b[0m in \u001b[0;36m<module>\u001b[0;34m\u001b[0m\n\u001b[0;32m----> 1\u001b[0;31m \u001b[0muser_df\u001b[0m \u001b[0;34m=\u001b[0m \u001b[0mecom_df\u001b[0m\u001b[0;34m[\u001b[0m\u001b[0;34m[\u001b[0m\u001b[0;34m'user_id'\u001b[0m\u001b[0;34m,\u001b[0m\u001b[0;34m'event_type'\u001b[0m\u001b[0;34m,\u001b[0m\u001b[0;34m'price'\u001b[0m\u001b[0;34m]\u001b[0m\u001b[0;34m]\u001b[0m\u001b[0;34m\u001b[0m\u001b[0;34m\u001b[0m\u001b[0m\n\u001b[0m",
      "\u001b[0;31mNameError\u001b[0m: name 'ecom_df' is not defined"
     ]
    }
   ],
   "source": [
    "user_df = ecom_df[['user_id','event_type','price']]"
   ]
  },
  {
   "cell_type": "code",
   "execution_count": null,
   "metadata": {},
   "outputs": [],
   "source": [
    "graph_df = user_df[['user_id','price']]\n",
    "graph_df = graph_df.groupby(['user_id'])['price'].sum().reset_index()\n",
    "graph_df = graph_df.sort_values(by=['price'],ascending=False)\n",
    "graph_df = graph_df.rename(columns={'price':'spent'})"
   ]
  },
  {
   "cell_type": "code",
   "execution_count": null,
   "metadata": {},
   "outputs": [],
   "source": [
    "price_list = graph_df['spent'].to_list()\n",
    "plt.hist(x= price_list,bins=100,log=True, color='green')\n",
    "plt.xlabel('Spent amount')\n",
    "plt.ylabel('Customer Count')\n",
    "plt.title('Customer Spending')\n",
    "plt.savefig(\"Customer_Spend\")"
   ]
  },
  {
   "cell_type": "markdown",
   "metadata": {},
   "source": [
    "### Graph 2"
   ]
  },
  {
   "cell_type": "code",
   "execution_count": 40,
   "metadata": {},
   "outputs": [],
   "source": [
    "# Daily visitors number\n",
    "fig, ax = plt.subplots(figsize=(15,7))\n",
    "date = ecom_df.loc[:,['event_time','user_id']]\n",
    "visitor_by_date = date.groupby(['event_time'])['user_id'].nunique()\n",
    "visitor_by_date.plot(ax=ax)\n",
    "plt.savefig(\"test\")"
   ]
  },
  {
   "cell_type": "markdown",
   "metadata": {},
   "source": [
    "### Graph 3"
   ]
  },
  {
   "cell_type": "code",
   "execution_count": 214,
   "metadata": {},
   "outputs": [],
   "source": [
    "ax = sns.countplot(x=ecom_df[\"event_type\"], data=ecom_df)\n",
    "plt.savefig(\"Target_Value_Counts\")"
   ]
  },
  {
   "cell_type": "code",
   "execution_count": 213,
   "metadata": {},
   "outputs": [
    {
     "data": {
      "text/plain": [
       "0    65903\n",
       "1    27518\n",
       "Name: event_type, dtype: int64"
      ]
     },
     "execution_count": 213,
     "metadata": {},
     "output_type": "execute_result"
    }
   ],
   "source": [
    "ecom_df[\"event_type\"].value_counts()"
   ]
  },
  {
   "cell_type": "markdown",
   "metadata": {},
   "source": [
    "### Graph 4"
   ]
  },
  {
   "cell_type": "code",
   "execution_count": 79,
   "metadata": {},
   "outputs": [],
   "source": [
    "cart_count = ecom_df.groupby([\"event_type\"])[\"brand\"].value_counts()\n",
    "#({'purchase': 1, 'remove_from_cart': 0})"
   ]
  },
  {
   "cell_type": "code",
   "execution_count": 94,
   "metadata": {},
   "outputs": [
    {
     "data": {
      "text/plain": [
       "brand\n",
       "italwax      6845\n",
       "unknown      6111\n",
       "benovy       2999\n",
       "max          1774\n",
       "polarus      1347\n",
       "depilflax    1244\n",
       "nitrimax     1129\n",
       "emil         1100\n",
       "runail       1096\n",
       "domix         928\n",
       "irisk         809\n",
       "nitrile       657\n",
       "jessnail      441\n",
       "yoko          292\n",
       "gezatone      169\n",
       "dewal         122\n",
       "milv          119\n",
       "farmona        78\n",
       "profepil       62\n",
       "vosev          33\n",
       "gehwol         26\n",
       "shik           26\n",
       "nirvel         24\n",
       "mavala         22\n",
       "kinetics       16\n",
       "naturmed       14\n",
       "naomi          11\n",
       "jaguar          7\n",
       "cutrin          6\n",
       "farmavita       4\n",
       "kondor          4\n",
       "kosmekka        2\n",
       "masura          1\n",
       "Name: brand, dtype: int64"
      ]
     },
     "execution_count": 94,
     "metadata": {},
     "output_type": "execute_result"
    }
   ],
   "source": [
    "cart_p = cart_count[1]\n",
    "cart_r = cart_count[0]\n",
    "cart_p"
   ]
  },
  {
   "cell_type": "code",
   "execution_count": 128,
   "metadata": {},
   "outputs": [
    {
     "data": {
      "text/html": [
       "<div>\n",
       "<style scoped>\n",
       "    .dataframe tbody tr th:only-of-type {\n",
       "        vertical-align: middle;\n",
       "    }\n",
       "\n",
       "    .dataframe tbody tr th {\n",
       "        vertical-align: top;\n",
       "    }\n",
       "\n",
       "    .dataframe thead th {\n",
       "        text-align: right;\n",
       "    }\n",
       "</style>\n",
       "<table border=\"1\" class=\"dataframe\">\n",
       "  <thead>\n",
       "    <tr style=\"text-align: right;\">\n",
       "      <th></th>\n",
       "      <th>Purchase</th>\n",
       "      <th>Removed</th>\n",
       "      <th>Ratio</th>\n",
       "    </tr>\n",
       "  </thead>\n",
       "  <tbody>\n",
       "    <tr>\n",
       "      <th>shifei</th>\n",
       "      <td>0.0</td>\n",
       "      <td>1</td>\n",
       "      <td>0.000000</td>\n",
       "    </tr>\n",
       "    <tr>\n",
       "      <th>babyliss</th>\n",
       "      <td>0.0</td>\n",
       "      <td>14</td>\n",
       "      <td>0.000000</td>\n",
       "    </tr>\n",
       "    <tr>\n",
       "      <th>oniq</th>\n",
       "      <td>0.0</td>\n",
       "      <td>6</td>\n",
       "      <td>0.000000</td>\n",
       "    </tr>\n",
       "    <tr>\n",
       "      <th>kosmekka</th>\n",
       "      <td>2.0</td>\n",
       "      <td>106</td>\n",
       "      <td>0.018868</td>\n",
       "    </tr>\n",
       "    <tr>\n",
       "      <th>naomi</th>\n",
       "      <td>11.0</td>\n",
       "      <td>115</td>\n",
       "      <td>0.095652</td>\n",
       "    </tr>\n",
       "    <tr>\n",
       "      <th>vosev</th>\n",
       "      <td>33.0</td>\n",
       "      <td>280</td>\n",
       "      <td>0.117857</td>\n",
       "    </tr>\n",
       "    <tr>\n",
       "      <th>shik</th>\n",
       "      <td>26.0</td>\n",
       "      <td>191</td>\n",
       "      <td>0.136126</td>\n",
       "    </tr>\n",
       "    <tr>\n",
       "      <th>jessnail</th>\n",
       "      <td>441.0</td>\n",
       "      <td>2295</td>\n",
       "      <td>0.192157</td>\n",
       "    </tr>\n",
       "    <tr>\n",
       "      <th>irisk</th>\n",
       "      <td>809.0</td>\n",
       "      <td>3459</td>\n",
       "      <td>0.233883</td>\n",
       "    </tr>\n",
       "    <tr>\n",
       "      <th>profepil</th>\n",
       "      <td>62.0</td>\n",
       "      <td>231</td>\n",
       "      <td>0.268398</td>\n",
       "    </tr>\n",
       "    <tr>\n",
       "      <th>kinetics</th>\n",
       "      <td>16.0</td>\n",
       "      <td>59</td>\n",
       "      <td>0.271186</td>\n",
       "    </tr>\n",
       "    <tr>\n",
       "      <th>mavala</th>\n",
       "      <td>22.0</td>\n",
       "      <td>75</td>\n",
       "      <td>0.293333</td>\n",
       "    </tr>\n",
       "    <tr>\n",
       "      <th>farmavita</th>\n",
       "      <td>4.0</td>\n",
       "      <td>13</td>\n",
       "      <td>0.307692</td>\n",
       "    </tr>\n",
       "    <tr>\n",
       "      <th>polarus</th>\n",
       "      <td>1347.0</td>\n",
       "      <td>3871</td>\n",
       "      <td>0.347972</td>\n",
       "    </tr>\n",
       "    <tr>\n",
       "      <th>domix</th>\n",
       "      <td>928.0</td>\n",
       "      <td>2570</td>\n",
       "      <td>0.361089</td>\n",
       "    </tr>\n",
       "    <tr>\n",
       "      <th>runail</th>\n",
       "      <td>1096.0</td>\n",
       "      <td>3031</td>\n",
       "      <td>0.361597</td>\n",
       "    </tr>\n",
       "    <tr>\n",
       "      <th>benovy</th>\n",
       "      <td>2999.0</td>\n",
       "      <td>8186</td>\n",
       "      <td>0.366357</td>\n",
       "    </tr>\n",
       "    <tr>\n",
       "      <th>jaguar</th>\n",
       "      <td>7.0</td>\n",
       "      <td>19</td>\n",
       "      <td>0.368421</td>\n",
       "    </tr>\n",
       "    <tr>\n",
       "      <th>max</th>\n",
       "      <td>1774.0</td>\n",
       "      <td>4465</td>\n",
       "      <td>0.397312</td>\n",
       "    </tr>\n",
       "    <tr>\n",
       "      <th>kondor</th>\n",
       "      <td>4.0</td>\n",
       "      <td>10</td>\n",
       "      <td>0.400000</td>\n",
       "    </tr>\n",
       "    <tr>\n",
       "      <th>nitrile</th>\n",
       "      <td>657.0</td>\n",
       "      <td>1617</td>\n",
       "      <td>0.406308</td>\n",
       "    </tr>\n",
       "    <tr>\n",
       "      <th>gehwol</th>\n",
       "      <td>26.0</td>\n",
       "      <td>59</td>\n",
       "      <td>0.440678</td>\n",
       "    </tr>\n",
       "    <tr>\n",
       "      <th>italwax</th>\n",
       "      <td>6845.0</td>\n",
       "      <td>14841</td>\n",
       "      <td>0.461222</td>\n",
       "    </tr>\n",
       "    <tr>\n",
       "      <th>unknown</th>\n",
       "      <td>6111.0</td>\n",
       "      <td>12890</td>\n",
       "      <td>0.474088</td>\n",
       "    </tr>\n",
       "    <tr>\n",
       "      <th>emil</th>\n",
       "      <td>1100.0</td>\n",
       "      <td>2270</td>\n",
       "      <td>0.484581</td>\n",
       "    </tr>\n",
       "    <tr>\n",
       "      <th>nitrimax</th>\n",
       "      <td>1129.0</td>\n",
       "      <td>2222</td>\n",
       "      <td>0.508101</td>\n",
       "    </tr>\n",
       "    <tr>\n",
       "      <th>naturmed</th>\n",
       "      <td>14.0</td>\n",
       "      <td>27</td>\n",
       "      <td>0.518519</td>\n",
       "    </tr>\n",
       "    <tr>\n",
       "      <th>depilflax</th>\n",
       "      <td>1244.0</td>\n",
       "      <td>1971</td>\n",
       "      <td>0.631152</td>\n",
       "    </tr>\n",
       "    <tr>\n",
       "      <th>cutrin</th>\n",
       "      <td>6.0</td>\n",
       "      <td>9</td>\n",
       "      <td>0.666667</td>\n",
       "    </tr>\n",
       "    <tr>\n",
       "      <th>yoko</th>\n",
       "      <td>292.0</td>\n",
       "      <td>428</td>\n",
       "      <td>0.682243</td>\n",
       "    </tr>\n",
       "    <tr>\n",
       "      <th>gezatone</th>\n",
       "      <td>169.0</td>\n",
       "      <td>227</td>\n",
       "      <td>0.744493</td>\n",
       "    </tr>\n",
       "    <tr>\n",
       "      <th>milv</th>\n",
       "      <td>119.0</td>\n",
       "      <td>152</td>\n",
       "      <td>0.782895</td>\n",
       "    </tr>\n",
       "    <tr>\n",
       "      <th>nirvel</th>\n",
       "      <td>24.0</td>\n",
       "      <td>28</td>\n",
       "      <td>0.857143</td>\n",
       "    </tr>\n",
       "    <tr>\n",
       "      <th>masura</th>\n",
       "      <td>1.0</td>\n",
       "      <td>1</td>\n",
       "      <td>1.000000</td>\n",
       "    </tr>\n",
       "    <tr>\n",
       "      <th>farmona</th>\n",
       "      <td>78.0</td>\n",
       "      <td>68</td>\n",
       "      <td>1.147059</td>\n",
       "    </tr>\n",
       "    <tr>\n",
       "      <th>dewal</th>\n",
       "      <td>122.0</td>\n",
       "      <td>96</td>\n",
       "      <td>1.270833</td>\n",
       "    </tr>\n",
       "  </tbody>\n",
       "</table>\n",
       "</div>"
      ],
      "text/plain": [
       "           Purchase  Removed     Ratio\n",
       "shifei          0.0        1  0.000000\n",
       "babyliss        0.0       14  0.000000\n",
       "oniq            0.0        6  0.000000\n",
       "kosmekka        2.0      106  0.018868\n",
       "naomi          11.0      115  0.095652\n",
       "vosev          33.0      280  0.117857\n",
       "shik           26.0      191  0.136126\n",
       "jessnail      441.0     2295  0.192157\n",
       "irisk         809.0     3459  0.233883\n",
       "profepil       62.0      231  0.268398\n",
       "kinetics       16.0       59  0.271186\n",
       "mavala         22.0       75  0.293333\n",
       "farmavita       4.0       13  0.307692\n",
       "polarus      1347.0     3871  0.347972\n",
       "domix         928.0     2570  0.361089\n",
       "runail       1096.0     3031  0.361597\n",
       "benovy       2999.0     8186  0.366357\n",
       "jaguar          7.0       19  0.368421\n",
       "max          1774.0     4465  0.397312\n",
       "kondor          4.0       10  0.400000\n",
       "nitrile       657.0     1617  0.406308\n",
       "gehwol         26.0       59  0.440678\n",
       "italwax      6845.0    14841  0.461222\n",
       "unknown      6111.0    12890  0.474088\n",
       "emil         1100.0     2270  0.484581\n",
       "nitrimax     1129.0     2222  0.508101\n",
       "naturmed       14.0       27  0.518519\n",
       "depilflax    1244.0     1971  0.631152\n",
       "cutrin          6.0        9  0.666667\n",
       "yoko          292.0      428  0.682243\n",
       "gezatone      169.0      227  0.744493\n",
       "milv          119.0      152  0.782895\n",
       "nirvel         24.0       28  0.857143\n",
       "masura          1.0        1  1.000000\n",
       "farmona        78.0       68  1.147059\n",
       "dewal         122.0       96  1.270833"
      ]
     },
     "execution_count": 128,
     "metadata": {},
     "output_type": "execute_result"
    }
   ],
   "source": [
    "cart_p = cart_count[1]\n",
    "cart_r = cart_count[0]\n",
    "cart_fin = pd.concat([cart_p, cart_r], axis=1)\n",
    "cart_fin.columns.values[0]=\"Purchase\"\n",
    "cart_fin.columns.values[1]=\"Removed\"\n",
    "cart_fin = cart_fin.fillna(0.0)\n",
    "cart_fin[\"Ratio\"] = cart_fin.Purchase/cart_fin.Removed\n",
    "cart_fin.sort_values(by=\"Ratio\")"
   ]
  },
  {
   "cell_type": "code",
   "execution_count": 210,
   "metadata": {},
   "outputs": [],
   "source": [
    "hour_count = ecom_df.groupby([\"event_type\"])[\"hour\"].value_counts()\n",
    "#({'purchase': 1, 'remove_from_cart': 0})"
   ]
  },
  {
   "cell_type": "code",
   "execution_count": 214,
   "metadata": {},
   "outputs": [
    {
     "data": {
      "text/html": [
       "<div>\n",
       "<style scoped>\n",
       "    .dataframe tbody tr th:only-of-type {\n",
       "        vertical-align: middle;\n",
       "    }\n",
       "\n",
       "    .dataframe tbody tr th {\n",
       "        vertical-align: top;\n",
       "    }\n",
       "\n",
       "    .dataframe thead th {\n",
       "        text-align: right;\n",
       "    }\n",
       "</style>\n",
       "<table border=\"1\" class=\"dataframe\">\n",
       "  <thead>\n",
       "    <tr style=\"text-align: right;\">\n",
       "      <th></th>\n",
       "      <th>Purchase</th>\n",
       "      <th>Removed</th>\n",
       "      <th>Ratio</th>\n",
       "    </tr>\n",
       "    <tr>\n",
       "      <th>hour</th>\n",
       "      <th></th>\n",
       "      <th></th>\n",
       "      <th></th>\n",
       "    </tr>\n",
       "  </thead>\n",
       "  <tbody>\n",
       "    <tr>\n",
       "      <th>3</th>\n",
       "      <td>163</td>\n",
       "      <td>539</td>\n",
       "      <td>0.302412</td>\n",
       "    </tr>\n",
       "    <tr>\n",
       "      <th>2</th>\n",
       "      <td>149</td>\n",
       "      <td>441</td>\n",
       "      <td>0.337868</td>\n",
       "    </tr>\n",
       "    <tr>\n",
       "      <th>5</th>\n",
       "      <td>430</td>\n",
       "      <td>1158</td>\n",
       "      <td>0.371330</td>\n",
       "    </tr>\n",
       "    <tr>\n",
       "      <th>18</th>\n",
       "      <td>924</td>\n",
       "      <td>2422</td>\n",
       "      <td>0.381503</td>\n",
       "    </tr>\n",
       "    <tr>\n",
       "      <th>22</th>\n",
       "      <td>394</td>\n",
       "      <td>989</td>\n",
       "      <td>0.398382</td>\n",
       "    </tr>\n",
       "    <tr>\n",
       "      <th>19</th>\n",
       "      <td>946</td>\n",
       "      <td>2347</td>\n",
       "      <td>0.403068</td>\n",
       "    </tr>\n",
       "    <tr>\n",
       "      <th>4</th>\n",
       "      <td>286</td>\n",
       "      <td>706</td>\n",
       "      <td>0.405099</td>\n",
       "    </tr>\n",
       "    <tr>\n",
       "      <th>16</th>\n",
       "      <td>902</td>\n",
       "      <td>2216</td>\n",
       "      <td>0.407040</td>\n",
       "    </tr>\n",
       "    <tr>\n",
       "      <th>17</th>\n",
       "      <td>919</td>\n",
       "      <td>2228</td>\n",
       "      <td>0.412478</td>\n",
       "    </tr>\n",
       "    <tr>\n",
       "      <th>21</th>\n",
       "      <td>636</td>\n",
       "      <td>1501</td>\n",
       "      <td>0.423718</td>\n",
       "    </tr>\n",
       "    <tr>\n",
       "      <th>15</th>\n",
       "      <td>900</td>\n",
       "      <td>2110</td>\n",
       "      <td>0.426540</td>\n",
       "    </tr>\n",
       "    <tr>\n",
       "      <th>1</th>\n",
       "      <td>137</td>\n",
       "      <td>320</td>\n",
       "      <td>0.428125</td>\n",
       "    </tr>\n",
       "    <tr>\n",
       "      <th>0</th>\n",
       "      <td>153</td>\n",
       "      <td>345</td>\n",
       "      <td>0.443478</td>\n",
       "    </tr>\n",
       "    <tr>\n",
       "      <th>20</th>\n",
       "      <td>939</td>\n",
       "      <td>2044</td>\n",
       "      <td>0.459393</td>\n",
       "    </tr>\n",
       "    <tr>\n",
       "      <th>12</th>\n",
       "      <td>1040</td>\n",
       "      <td>2255</td>\n",
       "      <td>0.461197</td>\n",
       "    </tr>\n",
       "    <tr>\n",
       "      <th>14</th>\n",
       "      <td>936</td>\n",
       "      <td>2029</td>\n",
       "      <td>0.461311</td>\n",
       "    </tr>\n",
       "    <tr>\n",
       "      <th>6</th>\n",
       "      <td>717</td>\n",
       "      <td>1538</td>\n",
       "      <td>0.466190</td>\n",
       "    </tr>\n",
       "    <tr>\n",
       "      <th>10</th>\n",
       "      <td>1118</td>\n",
       "      <td>2373</td>\n",
       "      <td>0.471134</td>\n",
       "    </tr>\n",
       "    <tr>\n",
       "      <th>8</th>\n",
       "      <td>987</td>\n",
       "      <td>2079</td>\n",
       "      <td>0.474747</td>\n",
       "    </tr>\n",
       "    <tr>\n",
       "      <th>7</th>\n",
       "      <td>897</td>\n",
       "      <td>1871</td>\n",
       "      <td>0.479423</td>\n",
       "    </tr>\n",
       "    <tr>\n",
       "      <th>23</th>\n",
       "      <td>237</td>\n",
       "      <td>487</td>\n",
       "      <td>0.486653</td>\n",
       "    </tr>\n",
       "    <tr>\n",
       "      <th>9</th>\n",
       "      <td>1037</td>\n",
       "      <td>2092</td>\n",
       "      <td>0.495698</td>\n",
       "    </tr>\n",
       "    <tr>\n",
       "      <th>13</th>\n",
       "      <td>1070</td>\n",
       "      <td>2009</td>\n",
       "      <td>0.532603</td>\n",
       "    </tr>\n",
       "    <tr>\n",
       "      <th>11</th>\n",
       "      <td>1297</td>\n",
       "      <td>2350</td>\n",
       "      <td>0.551915</td>\n",
       "    </tr>\n",
       "  </tbody>\n",
       "</table>\n",
       "</div>"
      ],
      "text/plain": [
       "      Purchase  Removed     Ratio\n",
       "hour                             \n",
       "3          163      539  0.302412\n",
       "2          149      441  0.337868\n",
       "5          430     1158  0.371330\n",
       "18         924     2422  0.381503\n",
       "22         394      989  0.398382\n",
       "19         946     2347  0.403068\n",
       "4          286      706  0.405099\n",
       "16         902     2216  0.407040\n",
       "17         919     2228  0.412478\n",
       "21         636     1501  0.423718\n",
       "15         900     2110  0.426540\n",
       "1          137      320  0.428125\n",
       "0          153      345  0.443478\n",
       "20         939     2044  0.459393\n",
       "12        1040     2255  0.461197\n",
       "14         936     2029  0.461311\n",
       "6          717     1538  0.466190\n",
       "10        1118     2373  0.471134\n",
       "8          987     2079  0.474747\n",
       "7          897     1871  0.479423\n",
       "23         237      487  0.486653\n",
       "9         1037     2092  0.495698\n",
       "13        1070     2009  0.532603\n",
       "11        1297     2350  0.551915"
      ]
     },
     "execution_count": 214,
     "metadata": {},
     "output_type": "execute_result"
    }
   ],
   "source": [
    "cart_p2 = hour_count[1]\n",
    "cart_r2 = hour_count[0]\n",
    "hour_fin = pd.concat([cart_p2, cart_r2], axis=1)\n",
    "hour_fin.columns.values[0]=\"Purchase\"\n",
    "hour_fin.columns.values[1]=\"Removed\"\n",
    "hour_fin = cart_fin2.fillna(0.0)\n",
    "hour_fin[\"Ratio\"] = cart_fin2.Purchase/cart_fin2.Removed\n",
    "hour_fin.sort_values(by=\"Ratio\")"
   ]
  },
  {
   "cell_type": "code",
   "execution_count": 226,
   "metadata": {},
   "outputs": [
    {
     "data": {
      "image/png": "[encoded data removed]",
      "text/plain": [
       "<Figure size 432x288 with 1 Axes>"
      ]
     },
     "metadata": {
      "needs_background": "light"
     },
     "output_type": "display_data"
    }
   ],
   "source": [
    "ax = hour_fin.plot.bar(y='Ratio', rot=0, color='orange')\n",
    "plt.xlabel('Hour')\n",
    "plt.ylabel('Ratio P/R')\n",
    "plt.xticks(rotation=90)\n",
    "plt.savefig(\"Hour_Ratio\")"
   ]
  },
  {
   "cell_type": "markdown",
   "metadata": {},
   "source": [
    "### Graph ?"
   ]
  },
  {
   "cell_type": "code",
   "execution_count": 64,
   "metadata": {},
   "outputs": [],
   "source": [
    "cart_count.plot.bar(figsize=(7, 5))\n",
    "plt.legend(title='Value Counts', bbox_to_anchor=(1.05, 1), loc='upper left')\n",
    "plt.xlabel('Count')\n",
    "plt.ylabel('Brand')\n",
    "plt.savefig(\"Brand_Behaviour\")"
   ]
  },
  {
   "cell_type": "code",
   "execution_count": null,
   "metadata": {},
   "outputs": [],
   "source": [
    "sns.barplot(x='no_employees', y='Count', data=dft, hue='treatment')"
   ]
  },
  {
   "cell_type": "code",
   "execution_count": 41,
   "metadata": {},
   "outputs": [],
   "source": [
    "plt.hist([bank[0], bank[1]], color=['r','b'], alpha=0.5)\n",
    "plt.savefig(\"Brand_Behaviour\")"
   ]
  },
  {
   "cell_type": "code",
   "execution_count": null,
   "metadata": {},
   "outputs": [],
   "source": [
    "df_gb = df.groupby(['year', 'month', 'class']).size().unstack(level=2)"
   ]
  },
  {
   "cell_type": "markdown",
   "metadata": {},
   "source": [
    "### Graph 5"
   ]
  },
  {
   "cell_type": "code",
   "execution_count": 66,
   "metadata": {},
   "outputs": [],
   "source": [
    "grp_by_hr_event_type = ecom_df.groupby(['hour','event_type']).count()"
   ]
  },
  {
   "cell_type": "code",
   "execution_count": 68,
   "metadata": {},
   "outputs": [],
   "source": [
    "layout= dict(title=\"Hourly Store Traffic\", xaxis_title=\"Time of Day\", yaxis_title=\"Number of  Users\")\n",
    "grp_by_hr_event_type['user_id'].unstack(1).plot(kind=\"bar\", layout=layout)\n",
    "plt.savefig(\"test\")"
   ]
  },
  {
   "cell_type": "code",
   "execution_count": null,
   "metadata": {},
   "outputs": [],
   "source": []
  },
  {
   "cell_type": "code",
   "execution_count": 70,
   "metadata": {},
   "outputs": [],
   "source": [
    "grp_by_brand_count = ecom_df.groupby(['brand','event_type']).count()"
   ]
  },
  {
   "cell_type": "code",
   "execution_count": 72,
   "metadata": {},
   "outputs": [],
   "source": [
    "layout= dict(title=\"Hourly Store Traffic\", xaxis_title=\"Time of Day\", yaxis_title=\"Number of  Users\")\n",
    "grp_by_brand_count['user_id'].unstack(1).plot(kind=\"bar\", layout=layout, figsize=(16,24))\n",
    "plt.savefig(\"test2\")"
   ]
  },
  {
   "cell_type": "markdown",
   "metadata": {},
   "source": [
    "# Pickle"
   ]
  },
  {
   "cell_type": "code",
   "execution_count": 42,
   "metadata": {},
   "outputs": [
    {
     "name": "stdout",
     "output_type": "stream",
     "text": [
      "0.8096333957720097\n"
     ]
    }
   ],
   "source": [
    "# load the model from disk\n",
    "loaded_model = pickle.load(open('best_model.sav', 'rb'))\n",
    "result = loaded_model.score(X_test, y_test)\n",
    "print(result)"
   ]
  },
  {
   "cell_type": "markdown",
   "metadata": {},
   "source": [
    "### Time line graph"
   ]
  },
  {
   "cell_type": "code",
   "execution_count": 221,
   "metadata": {},
   "outputs": [],
   "source": [
    "date = ecom_df.loc[:,['event_time','user_id']]\n",
    "date['event_time'] = date['event_time'].apply(lambda d: str(d)[0:10])"
   ]
  },
  {
   "cell_type": "code",
   "execution_count": 222,
   "metadata": {},
   "outputs": [
    {
     "data": {
      "text/plain": [
       "event_time\n",
       "2019-10-01    164\n",
       "2019-10-02    179\n",
       "2019-10-03    142\n",
       "2019-10-04    151\n",
       "2019-10-05    129\n",
       "             ... \n",
       "2020-02-25    224\n",
       "2020-02-26    211\n",
       "2020-02-27    170\n",
       "2020-02-28    184\n",
       "2020-02-29    163\n",
       "Name: user_id, Length: 152, dtype: int64"
      ]
     },
     "execution_count": 222,
     "metadata": {},
     "output_type": "execute_result"
    }
   ],
   "source": [
    "visitor_by_date = date.groupby(['event_time'])['user_id'].nunique()\n",
    "visitor_by_date"
   ]
  },
  {
   "cell_type": "code",
   "execution_count": 231,
   "metadata": {},
   "outputs": [
    {
     "name": "stdout",
     "output_type": "stream",
     "text": [
      "<class 'pandas.core.series.Series'>\n"
     ]
    },
    {
     "data": {
      "image/png": "[encoded data removed]",
      "text/plain": [
       "<Figure size 432x288 with 1 Axes>"
      ]
     },
     "metadata": {
      "needs_background": "light"
     },
     "output_type": "display_data"
    }
   ],
   "source": [
    "X = pd.Series(visitor_by_date.index.values).apply(lambda s: datetime.strptime(s, '%Y-%m-%d').date())\n",
    "y = visitor_by_date[:]\n",
    "\n",
    "print(type(visitor_by_date))\n",
    "plt.plot(X,y)\n",
    "plt.xlabel('Day')\n",
    "plt.ylabel('Event Counts')\n",
    "plt.savefig('Vistor_Line_Graph')\n",
    "\n",
    "plt.show()"
   ]
  },
  {
   "cell_type": "markdown",
   "metadata": {},
   "source": [
    "### Pie graph"
   ]
  },
  {
   "cell_type": "code",
   "execution_count": 232,
   "metadata": {},
   "outputs": [],
   "source": [
    "ecom_df = pd.concat([oct19, nov19, dec19, jan20, feb20], axis=0)"
   ]
  },
  {
   "cell_type": "code",
   "execution_count": 236,
   "metadata": {},
   "outputs": [
    {
     "data": {
      "text/plain": [
       "view                9657821\n",
       "cart                5768333\n",
       "remove_from_cart    3979679\n",
       "purchase            1287007\n",
       "Name: event_type, dtype: int64"
      ]
     },
     "execution_count": 236,
     "metadata": {},
     "output_type": "execute_result"
    }
   ],
   "source": [
    "df_pie = ecom_df[\"event_type\"].value_counts()\n",
    "df_pie"
   ]
  },
  {
   "cell_type": "code",
   "execution_count": 240,
   "metadata": {},
   "outputs": [],
   "source": [
    "df_pie = ecom_df[\"event_type\"].value_counts().rename_axis('unique_values').to_frame('counts')"
   ]
  },
  {
   "cell_type": "code",
   "execution_count": 241,
   "metadata": {},
   "outputs": [
    {
     "data": {
      "text/html": [
       "<div>\n",
       "<style scoped>\n",
       "    .dataframe tbody tr th:only-of-type {\n",
       "        vertical-align: middle;\n",
       "    }\n",
       "\n",
       "    .dataframe tbody tr th {\n",
       "        vertical-align: top;\n",
       "    }\n",
       "\n",
       "    .dataframe thead th {\n",
       "        text-align: right;\n",
       "    }\n",
       "</style>\n",
       "<table border=\"1\" class=\"dataframe\">\n",
       "  <thead>\n",
       "    <tr style=\"text-align: right;\">\n",
       "      <th></th>\n",
       "      <th>counts</th>\n",
       "    </tr>\n",
       "    <tr>\n",
       "      <th>unique_values</th>\n",
       "      <th></th>\n",
       "    </tr>\n",
       "  </thead>\n",
       "  <tbody>\n",
       "    <tr>\n",
       "      <th>view</th>\n",
       "      <td>9657821</td>\n",
       "    </tr>\n",
       "    <tr>\n",
       "      <th>cart</th>\n",
       "      <td>5768333</td>\n",
       "    </tr>\n",
       "    <tr>\n",
       "      <th>remove_from_cart</th>\n",
       "      <td>3979679</td>\n",
       "    </tr>\n",
       "    <tr>\n",
       "      <th>purchase</th>\n",
       "      <td>1287007</td>\n",
       "    </tr>\n",
       "  </tbody>\n",
       "</table>\n",
       "</div>"
      ],
      "text/plain": [
       "                   counts\n",
       "unique_values            \n",
       "view              9657821\n",
       "cart              5768333\n",
       "remove_from_cart  3979679\n",
       "purchase          1287007"
      ]
     },
     "execution_count": 241,
     "metadata": {},
     "output_type": "execute_result"
    }
   ],
   "source": [
    "df_pie"
   ]
  },
  {
   "cell_type": "code",
   "execution_count": 247,
   "metadata": {},
   "outputs": [
    {
     "data": {
      "image/png": "[encoded data removed]",
      "text/plain": [
       "<Figure size 720x504 with 1 Axes>"
      ]
     },
     "metadata": {},
     "output_type": "display_data"
    }
   ],
   "source": [
    "# Creating plot \n",
    "fig = plt.figure(figsize =(10, 7)) \n",
    "plt.pie(df_pie.counts, labels = df_pie.index, shadow=True) \n",
    "  \n",
    "# show plot \n",
    "plt.savefig(\"Event_type_pie\")\n",
    "plt.show() "
   ]
  },
  {
   "cell_type": "code",
   "execution_count": null,
   "metadata": {},
   "outputs": [],
   "source": []
  }
 ],
 "metadata": {
  "kernelspec": {
   "display_name": "Python 3 (oy-env)",
   "language": "python",
   "name": "oy-env"
  },
  "language_info": {
   "codemirror_mode": {
    "name": "ipython",
    "version": 3
   },
   "file_extension": ".py",
   "mimetype": "text/x-python",
   "name": "python",
   "nbconvert_exporter": "python",
   "pygments_lexer": "ipython3",
   "version": "3.8.5"
  }
 },
 "nbformat": 4,
 "nbformat_minor": 4
}
